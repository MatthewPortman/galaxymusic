{
 "cells": [
  {
   "cell_type": "code",
   "id": "e0261ad3-e2da-4e8d-a98b-a214501fa062",
   "metadata": {
    "tags": [],
    "ExecuteTime": {
     "end_time": "2024-12-03T08:25:31.235635Z",
     "start_time": "2024-12-03T08:25:31.230512Z"
    }
   },
   "source": [
    "from pathlib import Path, PurePosixPath #, PurePath\n",
    "\n",
    "# Short for path join but in pathlib form\n",
    "pj = Path\n",
    "\n",
    "import shutil\n",
    "import subprocess\n",
    "import os\n",
    "from os import environ\n",
    "from sys import platform\n",
    "from types import GeneratorType"
   ],
   "outputs": [],
   "execution_count": 1
  },
  {
   "metadata": {
    "ExecuteTime": {
     "end_time": "2024-12-03T08:25:31.257061Z",
     "start_time": "2024-12-03T08:25:31.236766Z"
    }
   },
   "cell_type": "code",
   "source": [
    "from galfitlib import __file__ as galfitlib_file\n",
    "LIBRARY_DIR = Path(galfitlib_file).parent.absolute()"
   ],
   "id": "cef15126-c44a-4602-a1a6-675b2fe46b64",
   "outputs": [],
   "execution_count": 2
  },
  {
   "metadata": {
    "ExecuteTime": {
     "end_time": "2024-12-03T08:25:31.262838Z",
     "start_time": "2024-12-03T08:25:31.258275Z"
    }
   },
   "cell_type": "code",
   "source": [
    "# Provide Path overwrite for working with Windows + WSL\n",
    "def subprocess_windows_path(path):\n",
    "    # To avoid this see:\n",
    "    # https://www.jetbrains.com/help/pycharm/using-wsl-as-a-remote-interpreter.html#create-wsl-interpreter\n",
    "    # for working on windows with Pycharm + WSL\n",
    "    if platform == \"win32\":\n",
    "        path_split = path.parts\n",
    "        return PurePosixPath(f\"/mnt/{path_split[0][0].lower()}\", *path_split[1:])\n",
    "    else:\n",
    "        return Path(path)"
   ],
   "id": "cae63caa6791758e",
   "outputs": [],
   "execution_count": 3
  },
  {
   "metadata": {
    "ExecuteTime": {
     "end_time": "2024-12-03T08:25:31.273900Z",
     "start_time": "2024-12-03T08:25:31.264305Z"
    }
   },
   "cell_type": "code",
   "source": [
    "# For debugging purposes\n",
    "from IPython import get_ipython\n",
    "def in_notebook():\n",
    "    ip = get_ipython()\n",
    "    \n",
    "    if ip:\n",
    "        return True\n",
    "    else:\n",
    "        return False"
   ],
   "id": "f903eb5a-cd29-4155-b5b5-d5448bff1c57",
   "outputs": [],
   "execution_count": 4
  },
  {
   "metadata": {
    "ExecuteTime": {
     "end_time": "2024-12-03T08:25:31.283199Z",
     "start_time": "2024-12-03T08:25:31.274853Z"
    }
   },
   "cell_type": "code",
   "source": [
    "def export_to_py(notebook_name, output_filename = \"\"):\n",
    "    \n",
    "    notebook_name   = Path(notebook_name)\n",
    "    output_filename = Path(output_filename)\n",
    "    \n",
    "    notebook_name = notebook_name.with_suffix(\".ipynb\")\n",
    "    \n",
    "    # For some reason there's an issue with setting locales when using WSL\n",
    "    # remote environment in PyCharm. This is a tentative workaround.\n",
    "    if \"WSL_DISTRO_NAME\" in environ:\n",
    "        environ[\"LC_ALL\"] = \"C\"\n",
    "    \n",
    "    if in_notebook():\n",
    "        print(f\"Converting {notebook_name}\")\n",
    "        \n",
    "        result = !jupyter nbconvert --ClearOutputPreprocessor.enabled=True --to script {notebook_name}\n",
    "        \n",
    "        if output_filename:\n",
    "            print(result)\n",
    "            filename = Path(result[1].split()[-1])\n",
    "            output_filename = output_filename.with_suffix(\".py\")\n",
    "            \n",
    "            try:\n",
    "                #os.rename(filename, output_filename)\n",
    "                filename.rename(output_filename).absolute()\n",
    "                \n",
    "            except FileNotFoundError as f:\n",
    "                print(f\"Could not find {filename} per error {f}...\")\n",
    "                print(\"Output from nbconvert: \", *result)"
   ],
   "id": "c882d95f-4554-4a55-ab42-016b694b5e07",
   "outputs": [],
   "execution_count": 5
  },
  {
   "cell_type": "code",
   "id": "e97a9cac-d3d4-4c57-a149-60a687cf4cbd",
   "metadata": {
    "tags": [],
    "ExecuteTime": {
     "end_time": "2024-12-03T08:25:31.292339Z",
     "start_time": "2024-12-03T08:25:31.284131Z"
    }
   },
   "source": [
    "def sp(cmd_str, capture_output = True, timeout = None, **kwargs):\n",
    "    \n",
    "    shell = True\n",
    "    \n",
    "    if platform == \"win32\":\n",
    "        shell = False\n",
    "        # For some reason Windows needs some dummy string before the actual command\n",
    "        cmd_str = f\"dummy {cmd_str}\"\n",
    "        \n",
    "    # For some reason there's an issue with setting locales when using WSL\n",
    "    # remote environment in PyCharm. This is a tentative workaround.\n",
    "    elif \"WSL_DISTRO_NAME\" in environ:\n",
    "        environ[\"LC_ALL\"] = \"C\"\n",
    "    \n",
    "    # Wrapping subprocess because it is a pain in the butt to call it with all these kwargs\n",
    "    return subprocess.run(\n",
    "            cmd_str, \n",
    "            capture_output = capture_output,\n",
    "            text           = True,\n",
    "            shell          = shell,\n",
    "            timeout        = timeout,\n",
    "            # Platform check used more for debugging purposes than anything else... \n",
    "            executable     = shutil.which(\"bash\"),\n",
    "            #stdin          = subprocess.PIPE,\n",
    "            **kwargs\n",
    "    )"
   ],
   "outputs": [],
   "execution_count": 6
  },
  {
   "cell_type": "code",
   "id": "e2040c9f-dd92-4e5d-b349-abd1a45c0526",
   "metadata": {
    "tags": [],
    "ExecuteTime": {
     "end_time": "2024-12-03T08:25:31.314272Z",
     "start_time": "2024-12-03T08:25:31.293361Z"
    }
   },
   "source": [
    " def check_programs():\n",
    "\n",
    "    # This seems to work in Python directly so I'm leaving it as-is\n",
    "    # Checking galfit\n",
    "    # TODO: Is this needed any more?\n",
    "    #hostname = sp(f\"hostname\").stdout.split(\".\")[0]\n",
    "    \n",
    "    #galfit_cmd = shutil.which(f\"galfit_{hostname}\")\n",
    "    #if not galfit_cmd:\n",
    "    galfit_cmd  = shutil.which(f\"galfit\")\n",
    "\n",
    "    # Checking fitspng\n",
    "    fitspng_cmd = shutil.which(\"fitspng\")\n",
    "\n",
    "    # Checking exact python3 call\n",
    "    python_cmd  = shutil.which(\"python3\")\n",
    "    \n",
    "    # Checking sourceextractor\n",
    "    source_extractor_cmd = shutil.which(f\"sex\")\n",
    "\n",
    "    return {\n",
    "        \"galfit\"           : galfit_cmd, \n",
    "        \"fitspng\"          : fitspng_cmd, \n",
    "        \"python\"           : python_cmd, \n",
    "        \"source_extractor\" : source_extractor_cmd,\n",
    "    }\n",
    "\n",
    "# To be set upon import of this module\n",
    "# global run_galfit\n",
    "# global run_fitspng\n",
    "# global run_python\n",
    "program_dict = check_programs()\n",
    "RUN_GALFIT           = program_dict[\"galfit\"]\n",
    "RUN_FITSPNG          = program_dict[\"fitspng\"]\n",
    "RUN_PYTHON           = program_dict[\"python\"]\n",
    "RUN_SOURCE_EXTRACTOR = program_dict[\"source_extractor\"]"
   ],
   "outputs": [],
   "execution_count": 7
  },
  {
   "metadata": {
    "ExecuteTime": {
     "end_time": "2024-12-03T08:25:31.318104Z",
     "start_time": "2024-12-03T08:25:31.315314Z"
    }
   },
   "cell_type": "code",
   "source": [
    "def find_files(search_dir = \".\", search_pattern = \"*\", filetype = \"f\"):\n",
    "\n",
    "    if filetype in (\"d\", \"folder\", \"dir\", \"directory\"):\n",
    "        type_cmd = \"d\"\n",
    "\n",
    "    elif filetype in (\"f\", \"file\"):\n",
    "        type_cmd = \"f\"\n",
    "\n",
    "    else:\n",
    "        type_cmd = filetype\n",
    "\n",
    "    search_dir = subprocess_windows_path(search_dir)\n",
    "    result = sp(f\"find -L {search_dir} -maxdepth 1 -type {type_cmd} -name \\\"{search_pattern}\\\"\")\n",
    "    return [Path(i).name for i in result.stdout.split(\"\\n\") if i]"
   ],
   "id": "3e34d3fe2b35b612",
   "outputs": [],
   "execution_count": 8
  },
  {
   "cell_type": "code",
   "id": "f0093196-0c1d-4c52-8585-f2a329768cad",
   "metadata": {
    "ExecuteTime": {
     "end_time": "2024-12-03T08:25:31.326707Z",
     "start_time": "2024-12-03T08:25:31.318967Z"
    }
   },
   "source": [
    "def find_files_glob(search_dir = \".\", search_pattern = \"*\", filetype = \"f\"):\n",
    "            \n",
    "    # TODO: Make sure this still works as anticipated in the running scripts\n",
    "    # TODO: Also confirm glob follows symlinks\n",
    "    # It could be another case of Python being too slow to update with the file system\n",
    "    \n",
    "    # results = sp(f\"find -L {pj(search_dir)} -maxdepth 1 -type {type_cmd} -name \\\"{search_pattern}\\\"\")\n",
    "    results = Path(search_dir).glob(search_pattern)\n",
    "    \n",
    "    if filetype in (\"d\", \"folder\", \"dir\", \"directory\"):\n",
    "        return [i.name for i in results if i and i.is_dir()]\n",
    "        \n",
    "    elif filetype in (\"f\", \"file\"):\n",
    "        return [i.name for i in results if i and i.is_file()]\n",
    "    \n",
    "    else:\n",
    "        return [i.name for i in results if i]"
   ],
   "outputs": [],
   "execution_count": 9
  },
  {
   "cell_type": "code",
   "id": "43e67bd1-c382-457f-86e6-f6f554cbbcdc",
   "metadata": {
    "tags": [],
    "ExecuteTime": {
     "end_time": "2024-12-03T08:25:31.337889Z",
     "start_time": "2024-12-03T08:25:31.328270Z"
    }
   },
   "source": [
    "# Writing this to do generic deletion without calling subprocess\n",
    "def rm_files(*args):\n",
    "    # Assume list/tuple given by accident\n",
    "    if not args:\n",
    "        print(\"Nothing was fed into rm_files...\")\n",
    "        return None\n",
    "\n",
    "    if isinstance(args[0], (tuple, list, GeneratorType)):\n",
    "        print(\"Please expand your iterable(s) before feeding into rm_files, thanks!\")\n",
    "        print(\"Assuming the first argument is the only thing that needs to be deleted.\")\n",
    "        args = args[0]\n",
    "        \n",
    "    if isinstance(args, str):\n",
    "        args = [args]\n",
    "        \n",
    "    # Thanks! https://stackoverflow.com/a/8915613\n",
    "    # May the list comp live on\n",
    "    def catch(func, *argss, handle=lambda e : e, **kwargs):\n",
    "        try:\n",
    "            return func(*argss, **kwargs)\n",
    "        except FileNotFoundError as e:\n",
    "            return handle(e)\n",
    "    \n",
    "    # unlink, i.e. delete file\n",
    "    return [catch(Path.unlink, Path(i)) for i in args]"
   ],
   "outputs": [],
   "execution_count": 10
  },
  {
   "cell_type": "code",
   "id": "5edc2d07-fe7a-455d-b057-99f99819b329",
   "metadata": {
    "tags": [],
    "ExecuteTime": {
     "end_time": "2024-12-03T08:25:31.346709Z",
     "start_time": "2024-12-03T08:25:31.338998Z"
    }
   },
   "source": [
    "# Writing this to replace os.path.exists since that's too slow\n",
    "def exists(filename):\n",
    "    filename = subprocess_windows_path(filename)\n",
    "    results = sp(f\"[ -e {filename} ] && echo 1 || echo 0\")\n",
    "    return bool(int(results.stdout))"
   ],
   "outputs": [],
   "execution_count": 11
  },
  {
   "metadata": {
    "ExecuteTime": {
     "end_time": "2024-12-03T08:25:31.355962Z",
     "start_time": "2024-12-03T08:25:31.347605Z"
    }
   },
   "cell_type": "code",
   "source": [
    "# This is simply a convenience method for generating the string used to\n",
    "# create the get and set methods for the classes\n",
    "def _generate_get_set(input_dict): #, exclude = []):\n",
    "    to_print_str = \"\"\n",
    "    for key,v in input_dict.items():\n",
    "        to_print_str += f\"\"\"@property\n",
    "def {key}(self):\n",
    "    return self.{v}\n",
    "            \n",
    "@{key}.setter\n",
    "def {key}(self, new_val):\n",
    "    self.{v} = new_val\n",
    "\n",
    "\"\"\"\n",
    "    return to_print_str"
   ],
   "id": "ad6cc5185cff22c0",
   "outputs": [],
   "execution_count": 12
  },
  {
   "cell_type": "code",
   "id": "0a10b0d9-7b37-457a-a904-1e9865560004",
   "metadata": {
    "tags": [],
    "ExecuteTime": {
     "end_time": "2024-12-03T08:25:31.625456Z",
     "start_time": "2024-12-03T08:25:31.356934Z"
    }
   },
   "source": [
    "if __name__ == \"__main__\":\n",
    "    # The below are imported and directories are made\n",
    "    from galfitlib.tests.reg_test import *\n",
    "    \n",
    "    # REG_TEST_DIR    = pj(_LIBRARY_DIR, \"tests\")\n",
    "    # TEST_OUTPUT_DIR = pj(REG_TEST_DIR, \"output\")\n",
    "    # TEST_DATA_DIR   = pj(REG_TEST_DIR, \"data\")\n",
    "    # SAMPLE_DIR      = pj(TEST_DATA_DIR, \"samples\")"
   ],
   "outputs": [],
   "execution_count": 13
  },
  {
   "cell_type": "code",
   "id": "a68c47e6-ab1b-42b5-ac31-6a5f44e1f9cf",
   "metadata": {
    "tags": [],
    "ExecuteTime": {
     "end_time": "2024-12-03T08:25:31.641795Z",
     "start_time": "2024-12-03T08:25:31.626777Z"
    }
   },
   "source": [
    "# Unit test for sp\n",
    "# The components and things will overwrite files rather than append\n",
    "# so the second touch is unnecessary\n",
    "if __name__ == \"__main__\":\n",
    "    stdout_file   = \"unit_test_std_output.txt\"\n",
    "    # writeout_file = \"UnitTestWriteOuput.txt\"\n",
    "    \n",
    "    stdout_dest   = pj(TEST_OUTPUT_DIR, stdout_file)\n",
    "    # writeout_dest = pj(_MODULE_DIR, \"RegTest\", \"TestOutput\", writeout_file)\n",
    "    \n",
    "    touch_stdout  = sp(f\"touch {subprocess_windows_path(stdout_dest)}\")\n",
    "    # touch_writeout = sp(f\"touch {writeout_dest}\")\n",
    "    \n",
    "    # if touch_stdout.stderr or touch_writeout.stderr:\n",
    "    if touch_stdout.stderr:\n",
    "        print(\"Touch failed in helper_functions unit test.\")\n",
    "        print(touch_stdout.stderr)\n",
    "        # print(touch_writeout.stderr)\n",
    "        raise(Exception())"
   ],
   "outputs": [],
   "execution_count": 14
  },
  {
   "cell_type": "code",
   "id": "dc87e601-9d44-46ec-96e0-8ba928eda11d",
   "metadata": {
    "tags": [],
    "ExecuteTime": {
     "end_time": "2024-12-03T08:25:31.699218Z",
     "start_time": "2024-12-03T08:25:31.642972Z"
    }
   },
   "source": [
    "# Unit test for rm files\n",
    "if __name__ == \"__main__\":\n",
    "    # Cleaning up old reg test (if it was previously run)\n",
    "    # if TEST_OUTPUT_DIR.exists():\n",
    "    #     print(\"Cleaning up old unit/regression test files from TestOutput directory.\")\n",
    "    #     shutil.rmtree(TEST_OUTPUT_DIR)\n",
    "    # \n",
    "    # TEST_OUTPUT_DIR.mkdir()\n",
    "    \n",
    "    fake_files = [pj(TEST_OUTPUT_DIR, f\"fake_{i}.fake\") for i in range(10)]\n",
    "    \n",
    "    for fake in fake_files:\n",
    "        with open(fake, mode = 'a'): pass\n",
    "    \n",
    "    # Check try catch\n",
    "    fake_files.append(pj(TEST_OUTPUT_DIR, \"fakest_of_them_all.fake\"))\n",
    "    \n",
    "    # Check warning message\n",
    "    print(rm_files(fake_files)) #*fake_files\n",
    "    assert not list(Path(TEST_OUTPUT_DIR).glob(f\"fake_*\")), \"Files were not deleted, something went wrong!!!\""
   ],
   "outputs": [
    {
     "name": "stdout",
     "output_type": "stream",
     "text": [
      "Please expand your iterable(s) before feeding into rm_files, thanks!\n",
      "Assuming the first argument is the only thing that needs to be deleted.\n",
      "[None, None, None, None, None, None, None, None, None, None, FileNotFoundError(2, 'No such file or directory')]\n"
     ]
    }
   ],
   "execution_count": 15
  },
  {
   "cell_type": "code",
   "id": "5cc34ea2-fcfb-48c5-b4df-c0fa06535645",
   "metadata": {
    "tags": [],
    "ExecuteTime": {
     "end_time": "2024-12-03T08:25:31.726736Z",
     "start_time": "2024-12-03T08:25:31.700422Z"
    }
   },
   "source": [
    "# Unit test for list_files\n",
    "if __name__ == \"__main__\":\n",
    "    \n",
    "    print(sorted(find_files(pj(TEST_DATA_DIR, \"in\"),  \"*.fits\", \"f\")))\n",
    "    print()\n",
    "    print(sorted(find_files(pj(TEST_DATA_DIR, \"out\"), \"123*\", \"d\")))"
   ],
   "outputs": [
    {
     "name": "stdout",
     "output_type": "stream",
     "text": [
      "['1237655463239155886.fits', '1237667735062577326.fits', '1237667735565238388.fits', '1237667911674233053.fits', '1237667911674691747.fits', '1237667912741355660.fits', '1237668310013640891.fits', '1237668311090200859.fits', '1237668589728366770.fits', '1237671124293910779.fits', '1237671124296532233.fits']\n",
      "\n",
      "['1237655463239155886', '1237667735062577326', '1237667735565238388', '1237667911674233053', '1237667911674691747', '1237667912741355660', '1237668310013640891', '1237668311090200859', '1237668589728366770', '1237671124293910779', '1237671124296532233']\n"
     ]
    }
   ],
   "execution_count": 16
  },
  {
   "cell_type": "code",
   "id": "4a228b47-9bf8-4e18-b8fb-7839c536d64a",
   "metadata": {
    "tags": [],
    "ExecuteTime": {
     "end_time": "2024-12-03T08:25:31.735700Z",
     "start_time": "2024-12-03T08:25:31.727960Z"
    }
   },
   "source": [
    "# Unit test for exists\n",
    "if __name__ == \"__main__\":\n",
    "    \n",
    "    print(\"Does test in exist?\",  exists(pj(TEST_DATA_DIR, \"in\")))\n",
    "    print(\"Does test out exist?\", exists(pj(TEST_DATA_DIR, \"out\")))"
   ],
   "outputs": [
    {
     "name": "stdout",
     "output_type": "stream",
     "text": [
      "Does test in exist? True\n",
      "Does test out exist? True\n"
     ]
    }
   ],
   "execution_count": 17
  },
  {
   "metadata": {
    "ExecuteTime": {
     "end_time": "2024-12-03T08:25:31.740636Z",
     "start_time": "2024-12-03T08:25:31.736700Z"
    }
   },
   "cell_type": "code",
   "source": [
    "# Unit test for generate_get_set\n",
    "if __name__ == \"__main__\":\n",
    "    assert _generate_get_set({\"x\" : \"_x\"}) ==\"\"\"@property\n",
    "def x(self):\n",
    "    return self._x\n",
    "            \n",
    "@x.setter\n",
    "def x(self, new_val):\n",
    "    self._x = new_val\n",
    "\n",
    "\"\"\""
   ],
   "id": "99012125c63ad7d1",
   "outputs": [],
   "execution_count": 18
  },
  {
   "cell_type": "code",
   "id": "8703c4f4-51bc-436c-9526-2f716894a121",
   "metadata": {
    "tags": [],
    "ExecuteTime": {
     "end_time": "2024-12-03T08:25:32.785916Z",
     "start_time": "2024-12-03T08:25:31.741558Z"
    }
   },
   "source": [
    "if __name__ == \"__main__\":   \n",
    "    # Exporting the helper functions \n",
    "    export_to_py(\"helper_functions\", pj(LIBRARY_DIR, \"functions\", \"helper_functions\"))"
   ],
   "outputs": [
    {
     "name": "stdout",
     "output_type": "stream",
     "text": [
      "Converting helper_functions.ipynb\n",
      "['[NbConvertApp] Converting notebook helper_functions.ipynb to script', '[NbConvertApp] Writing 9816 bytes to helper_functions.py']\n"
     ]
    }
   ],
   "execution_count": 19
  }
 ],
 "metadata": {
  "kernelspec": {
   "display_name": "Python 3 (ipykernel)",
   "language": "python",
   "name": "python3"
  },
  "language_info": {
   "codemirror_mode": {
    "name": "ipython",
    "version": 3
   },
   "file_extension": ".py",
   "mimetype": "text/x-python",
   "name": "python",
   "nbconvert_exporter": "python",
   "pygments_lexer": "ipython3",
   "version": "3.11.4"
  }
 },
 "nbformat": 4,
 "nbformat_minor": 5
}
