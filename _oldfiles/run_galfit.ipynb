{
 "cells": [
  {
   "cell_type": "code",
   "execution_count": 1,
   "id": "474dcce3",
   "metadata": {},
   "outputs": [],
   "source": [
    "import sys\n",
    "import os\n",
    "from os.path import join as pj\n",
    "import deepcopy\n",
    "from astropy.io import fits\n",
    "# from os.path import exists\n",
    "\n",
    "_HOME_DIR = os.path.expanduser(\"~\")    \n",
    "\n",
    "try:\n",
    "    _SPARCFIRE_DIR = os.environ[\"SPARCFIRE_HOME\"]\n",
    "    _MODULE_DIR = pj(_SPARCFIRE_DIR, \"GalaxyMusic\", \"GalfitModule\")\n",
    "except KeyError:\n",
    "    # print(\"SPARCFIRE_HOME is not set. Please run 'setup.bash' inside SpArcFiRe directory if not done so already.\")\n",
    "    # print(\"Running on the assumption that GalfitModule is in your home directory... (if not this will fail and quit!)\") \n",
    "    _MODULE_DIR = pj(_HOME_DIR, \"GalaxyMusic\", \"GalfitModule\")\n",
    "    \n",
    "sys.path.append(_MODULE_DIR)\n",
    "    \n",
    "from Classes.Components import *\n",
    "from Classes.Containers import *\n",
    "from Functions.helper_functions import *\n",
    "from sparc_to_galfit_feedme_gen import *"
   ]
  },
  {
   "cell_type": "code",
   "execution_count": null,
   "id": "2db42184",
   "metadata": {},
   "outputs": [],
   "source": [
    "g_prefix = \"galaxy\"\n",
    "g_number = 0\n",
    "\n",
    "IN_DIR  = pj(_HOME_DIR, \"GalaxyMusic\", \"music-in\")\n",
    "TMP_DIR = pj(_HOME_DIR, \"GalaxyMusic\", \"music-tmp\")\n",
    "OUT_DIR = pj(_HOME_DIR, \"GalaxyMusic\", \"music-out\")\n",
    "\n",
    "run_galfit = pj(_MODULE_DIR, \"galfit\")\n",
    "\n",
    "previous = False"
   ]
  },
  {
   "cell_type": "code",
   "execution_count": null,
   "id": "430ae8f1",
   "metadata": {},
   "outputs": [],
   "source": [
    "# in loop\n",
    "gname = f\"{g_prefix}_{g_number}\"\n",
    "filename = f\"{pj(IN_DIR, gname)}.fits\"\n",
    "template = pj(_MODULE_DIR, \"template.fits\")\n",
    "sp(f\"cp {template} {filename}\")\n",
    "#gen_template(filename)\n",
    "\n",
    "if not exists(pj(OUT_DIR, gname)):\n",
    "    os.mkdir(pj(OUT_DIR, gname))\n",
    "    \n",
    "feedme = pj(OUT_DIR, gname, f\"{gname}.in\")\n",
    "output_filename = pj(OUT_DIR, gname, f\"{gname}.fits\")\n",
    "\n",
    "if previous:\n",
    "    galaxy_feedme = previous\n",
    "else:\n",
    "    galaxy_feedme = FeedmeContainer(path_to_feedme = feedme)\n",
    "\n",
    "    galaxy_feedme.header.param_values.update({\n",
    "        \"input_image\"  : filename,\n",
    "        \"output_image\" : output_filename,\n",
    "        \"optimize\"     : 1,\n",
    "        \"region_to_fit\" : (0,148,0,148)\n",
    "        }\n",
    "    )\n",
    "\n",
    "disk, bulge, dict_galfit = music_to_galaxy_properties(dict_music)\n",
    "dict_galfit.update({\"position\" : (74, 74)})\n",
    "\n",
    "if bulge == 1.0:\n",
    "    galaxy_feedme.bulge.param_values.update(dict_galfit)\n",
    "elif disk == 1.0:\n",
    "    galaxy_feedme.disk.param_values.update(dict_galfit)\n",
    "else:\n",
    "    print(\"something went wrong\")\n",
    "\n",
    "galaxy_feedme.update_components(bulge = bulge, disk = disk)\n",
    "\n",
    "#print(galaxy_feedme)\n",
    "process = sp(f\"{run_galfit} {feedme}\")\n",
    "\n",
    "previous = deepcopy(galaxy_feedme)\n",
    "#print(process.stdout)"
   ]
  }
 ],
 "metadata": {
  "kernelspec": {
   "display_name": "Python 3 (ipykernel)",
   "language": "python",
   "name": "python3"
  },
  "language_info": {
   "codemirror_mode": {
    "name": "ipython",
    "version": 3
   },
   "file_extension": ".py",
   "mimetype": "text/x-python",
   "name": "python",
   "nbconvert_exporter": "python",
   "pygments_lexer": "ipython3",
   "version": "3.9.13"
  }
 },
 "nbformat": 4,
 "nbformat_minor": 5
}
