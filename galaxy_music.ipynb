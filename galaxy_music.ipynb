{
 "cells": [
  {
   "cell_type": "code",
   "id": "7d35682d",
   "metadata": {
    "ExecuteTime": {
     "end_time": "2024-12-03T23:40:41.510702Z",
     "start_time": "2024-12-03T23:40:41.505067Z"
    }
   },
   "source": [
    "import sys\n",
    "from pathlib import Path\n",
    "from copy import deepcopy\n",
    "# from os.path import exists\n",
    "\n",
    "# Add the path to the sys.path list\n",
    "sys.path.append(Path(Path.cwd(), \"..\", \"galfitlib\").as_posix())"
   ],
   "outputs": [],
   "execution_count": 1
  },
  {
   "metadata": {
    "ExecuteTime": {
     "end_time": "2024-12-03T23:40:41.926802Z",
     "start_time": "2024-12-03T23:40:41.512143Z"
    }
   },
   "cell_type": "code",
   "source": [
    "#from galfitlib.classes.components import *\n",
    "from galfitlib.classes.containers import *\n",
    "from galfitlib.functions.helper_functions import *\n",
    "from galfitlib.pipeline.s2g_feedme_gen import *"
   ],
   "id": "6caa161b3e9397ec",
   "outputs": [],
   "execution_count": 2
  },
  {
   "cell_type": "code",
   "id": "4c45b96f",
   "metadata": {
    "ExecuteTime": {
     "end_time": "2024-12-03T23:40:42.249387Z",
     "start_time": "2024-12-03T23:40:41.927955Z"
    }
   },
   "source": [
    "from astropy.io import fits\n",
    "from astropy.utils.data import get_pkg_data_filename\n",
    "from scipy import fft\n",
    "import numpy as np\n",
    "import matplotlib.pyplot as plt"
   ],
   "outputs": [],
   "execution_count": 3
  },
  {
   "cell_type": "code",
   "id": "47a63821",
   "metadata": {
    "ExecuteTime": {
     "end_time": "2024-12-03T23:40:42.291549Z",
     "start_time": "2024-12-03T23:40:42.250417Z"
    }
   },
   "source": [
    "#Imports\n",
    "import ipywidgets as widgets\n",
    "from IPython.display import display\n",
    "from IPython.display import Audio"
   ],
   "outputs": [],
   "execution_count": 4
  },
  {
   "cell_type": "code",
   "id": "38524e7e",
   "metadata": {
    "ExecuteTime": {
     "end_time": "2024-12-03T23:40:42.312628Z",
     "start_time": "2024-12-03T23:40:42.293329Z"
    }
   },
   "source": "import sounddevice as sd",
   "outputs": [],
   "execution_count": 5
  },
  {
   "cell_type": "code",
   "id": "dce2b1b1",
   "metadata": {
    "ExecuteTime": {
     "end_time": "2024-12-03T23:40:42.317367Z",
     "start_time": "2024-12-03T23:40:42.313790Z"
    }
   },
   "source": [
    "def music_to_galaxy_properties(sersic_object : Sersic):\n",
    "    '''\n",
    "    Bb – ‘Magnitude’ [3,25] -> Linearly [0,1] | Set: 15 | Direction: Longer -> Lower Value\n",
    "    F – ‘Eff_Rad’ [0,1] | Set: 0.5 | Direction: Longer -> Higher Value\n",
    "    C – ‘Sersic_Index’ [0,10] (log scaling) | Set: 1.0 | Direction: Longer -> Higher Value\n",
    "    G – ‘Axis_Ratio’ [0.5,1] | Set: 1.0 | Direction: Longer -> Lower Value\n",
    "    D – ‘Pos_Angle’ [0,180] -> [0,1] Sin(theta/2) | Set: 0 | Direction: Longer -> Higher Value\n",
    "    \n",
    "    Returns: \n",
    "        disk: Float, \n",
    "        bulge: Float,\n",
    "        dict_galfit: Dictionary\n",
    "    '''\n",
    "        \n",
    "    def normalize(val, val_min=1.0, val_max=5.0):\n",
    "        '''\n",
    "        Normalizes input duration to [0.5,1]\n",
    "        '''\n",
    "        norm = np.abs((val - val_min)/(val_max - val_min))\n",
    "        return norm\n",
    "\n",
    "    sersic_object.magnitude.value        = (25.-3.)*(1.0 - normalize(dict_music['Bb']))+3.\n",
    "    sersic_object.effective_radius.value = (1.0 - 0.0)*normalize(dict_music['F'])+ 10\n",
    "    sersic_object.sersic_index.value     = (10.0 - 0.0)*normalize(dict_music['C']) + 0.5\n",
    "    sersic_object.axis_ratio.value       = (1 - 0.5)*normalize(dict_music['G']) + 0.5\n",
    "    sersic_object.position_angle.value   = 2*np.arcsin(normalize(dict_music['D']))*180.0/np.pi\n",
    "    \n",
    "    return bulge, disk # , sersic_object "
   ],
   "outputs": [],
   "execution_count": 6
  },
  {
   "cell_type": "code",
   "id": "e138d656",
   "metadata": {
    "ExecuteTime": {
     "end_time": "2024-12-03T23:40:42.326896Z",
     "start_time": "2024-12-03T23:40:42.318335Z"
    }
   },
   "source": [
    "g_prefix = \"galaxy\"\n",
    "g_number = 0\n",
    "\n",
    "cwd = Path.cwd()\n",
    "\n",
    "IN_DIR  = pj(cwd, \"music-in\")\n",
    "TMP_DIR = pj(cwd, \"music-tmp\")\n",
    "OUT_DIR = pj(cwd, \"music-out\")\n",
    "\n",
    "previous = False"
   ],
   "outputs": [],
   "execution_count": 7
  },
  {
   "cell_type": "code",
   "id": "49e3dccb",
   "metadata": {
    "ExecuteTime": {
     "end_time": "2024-12-03T23:40:42.336028Z",
     "start_time": "2024-12-03T23:40:42.327892Z"
    }
   },
   "source": [
    "# Function to update the array image when slider value changes\n",
    "def update_image_array(change):\n",
    "    # Update the image data based on the slider value\n",
    "    new_image_data_array = image_data_array * change.new\n",
    "\n",
    "    # Update the array image with new data\n",
    "    image_array.set_data(new_image_data_array)\n",
    "\n",
    "    # Redraw the figure\n",
    "    fig.canvas.draw()"
   ],
   "outputs": [],
   "execution_count": 8
  },
  {
   "metadata": {
    "ExecuteTime": {
     "end_time": "2024-12-03T23:40:44.068336Z",
     "start_time": "2024-12-03T23:40:42.336991Z"
    }
   },
   "cell_type": "code",
   "source": [
    "import librosa\n",
    "x, sr = librosa.load('brown_alma_mater.mp3')"
   ],
   "id": "a1047ef894f3ae6b",
   "outputs": [],
   "execution_count": 9
  },
  {
   "metadata": {
    "ExecuteTime": {
     "end_time": "2024-12-03T23:40:44.072118Z",
     "start_time": "2024-12-03T23:40:44.069513Z"
    }
   },
   "cell_type": "code",
   "source": [
    "# import pygame\n",
    "# \n",
    "# def play_audio(file_path):\n",
    "#     # Initialize Pygame mixer\n",
    "#     pygame.mixer.init()\n",
    "# \n",
    "#     # Load the audio file\n",
    "#     pygame.mixer.music.load(file_path)\n",
    "# \n",
    "#     # Play the audio file\n",
    "#     pygame.mixer.music.play()\n",
    "# \n",
    "#     # Keep the script running while the audio is playing\n",
    "#     while pygame.mixer.music.get_busy():\n",
    "#         pygame.time.Clock().tick(10)\n",
    "# \n",
    "# \n",
    "# audio_file = \"brown_alma_mater.mp3\"\n",
    "# play_audio(audio_file)"
   ],
   "id": "b94d05894cb1892e",
   "outputs": [],
   "execution_count": 10
  },
  {
   "metadata": {
    "ExecuteTime": {
     "end_time": "2024-12-03T23:40:44.087795Z",
     "start_time": "2024-12-03T23:40:44.073175Z"
    }
   },
   "cell_type": "code",
   "source": "%matplotlib notebook",
   "id": "25252b4eb459f7ee",
   "outputs": [],
   "execution_count": 11
  },
  {
   "metadata": {
    "ExecuteTime": {
     "end_time": "2024-12-04T02:46:17.213167Z",
     "start_time": "2024-12-04T02:46:17.209842Z"
    }
   },
   "cell_type": "code",
   "source": "print(t_step - t_step_size, t_step)",
   "id": "569ed7381d18e111",
   "outputs": [
    {
     "name": "stdout",
     "output_type": "stream",
     "text": [
      "-99225 11025\n"
     ]
    }
   ],
   "execution_count": 51
  },
  {
   "cell_type": "code",
   "id": "b04c942b",
   "metadata": {
    "ExecuteTime": {
     "end_time": "2024-12-04T02:49:52.416875Z",
     "start_time": "2024-12-04T02:49:51.632911Z"
    }
   },
   "source": [
    "count = 0\n",
    "g_number = 0\n",
    "while g_number == 0:\n",
    "    plt.clf()\n",
    "    gname = f\"{g_prefix}_{g_number}\"\n",
    "    filename = f\"{pj(IN_DIR, gname)}.fits\"\n",
    "    #template = pj(_MODULE_DIR, \"template.fits\")\n",
    "    #sp(f\"cp {template} {filename}\")\n",
    "    #gen_template(filename)\n",
    "    \n",
    "    dict_music = {\n",
    "        'Bb': 3.0,\n",
    "        'F': 0.5,\n",
    "        'C': 1.0,\n",
    "        'G': 0.5,\n",
    "        'D': 0.0,\n",
    "        'M': 1,\n",
    "        'm': 0\n",
    "    }\n",
    "\n",
    "    if not exists(pj(OUT_DIR, gname)):\n",
    "        pj(OUT_DIR, gname).mkdir()\n",
    "\n",
    "    feedme = pj(OUT_DIR, gname, f\"{gname}.in\")\n",
    "    input_filename = pj(IN_DIR, f\"{gname}.fits\")\n",
    "    output_filename = pj(OUT_DIR, gname, f\"{gname}_out.fits\")\n",
    "    \n",
    "    x     = 10000\n",
    "    count = 0\n",
    "    filename = \"brown_alma_mater.mp3\"\n",
    "    \n",
    "    while x != 0 and count < 1:\n",
    "        # x = int(input(\"Waiting...\"))\n",
    "        #sr = 48000\n",
    "        #duration = 6\n",
    "        signal, sr = librosa.load(filename)\n",
    "        t = np.arange(librosa.get_duration(path = filename), step = 1/sr)\n",
    "        #Nsamples = int(duration*sr)\n",
    "        # Cmaj = sd.rec(Nsamples, samplerate=sr, channels=1, blocking=True)[:,0]#dur5\n",
    "        \n",
    "         #np.arange(Nsamples)/sr\n",
    "        #extracting chord and duration\n",
    "        #ignore first 1 seconds\n",
    "        # blur(abs(signal)) to find peaks\n",
    "        # FT first peak to get chord\n",
    "        # output as string\n",
    "        # time between this and last peak, output this too\n",
    "\n",
    "        ignore = 0.5 # seconds\n",
    "        signal = signal[t > 0.5]\n",
    "        t      = t[t > 0.5]\n",
    "        \n",
    "        s = 0.01\n",
    "        t_step_size = 5 * sr\n",
    "        t_initial   = int(ignore * sr) + t_step_size\n",
    "        \n",
    "        for t_step in range(t_initial, len(t), t_step_size):\n",
    "            \n",
    "            #t_step = t[i_step] - t[i_step - i_step_size]\n",
    "            cutsignal = signal[t_step - t_step_size : t_step]\n",
    "            \n",
    "            blurProfile = (1/np.sqrt(2*np.pi*s**2))*np.exp(-0.5*(np.linspace(-3*s, 3*s, int(6*s*sr))/s)**2)\n",
    "    \n",
    "            signalBlurred = np.convolve(cutsignal**2, blurProfile, mode='same')\n",
    "    \n",
    "            chordrange = signalBlurred>100\n",
    "    \n",
    "            FT = fft.fft(cutsignal[chordrange])\n",
    "            freqs = fft.fftfreq(len(cutsignal[chordrange]), d=1/sr)\n",
    "    \n",
    "            FT = FT[freqs>=0]\n",
    "            freqs = freqs[freqs>=0]\n",
    "    \n",
    "            fmask = (freqs>100)&(freqs<2000)\n",
    "    \n",
    "            noteBins = 220*(2**((np.arange(12*3)-0.5)/12)) # starting from A below middle\n",
    "    \n",
    "            peaks = np.argsort(FT)[-3:]\n",
    "            \n",
    "            #sectionMask = (t>0.6)&(t<0.65)\n",
    "    \n",
    "            #section = signal[sectionMask]\n",
    "    \n",
    "            FT = fft.fft(cutsignal)\n",
    "            freqs = fft.fftfreq(len(cutsignal), d=1/sr)\n",
    "    \n",
    "            mask = (freqs>10)&(freqs<2500)\n",
    "            \n",
    "            plt.clf()\n",
    "            fig,ax = plt.subplots()\n",
    "            ax.plot(freqs[mask], np.abs(FT[mask])**2)\n",
    "            plt.show()\n",
    "            \n",
    "            break\n",
    "        \n",
    "        # bulge = Sersic(\n",
    "        #         component_number = 1,\n",
    "        #         position = (74, 74),\n",
    "        # )\n",
    "        # \n",
    "        # disk  = Sersic(\n",
    "        #         component_number = 2,\n",
    "        #         position = (74, 74),\n",
    "        # )\n",
    "        # \n",
    "        # if dict_music[\"m\"] == 1.0:\n",
    "        #     music_to_galaxy_properties(bulge)\n",
    "        #     \n",
    "        # elif dict_music[\"M\"] == 1.0:\n",
    "        #     music_to_galaxy_properties(disk)\n",
    "        # \n",
    "        # header = GalfitHeader(\n",
    "        #         galaxy_name = gname,\n",
    "        #         input_image = input_filename,\n",
    "        #         output_image = output_filename,\n",
    "        #         optimize = 1,\n",
    "        #         region_to_fit = (0,147,0,147)\n",
    "        # )\n",
    "        # \n",
    "        # galaxy_feedme = FeedmeContainer(\n",
    "        #         path_to_feedme = feedme, \n",
    "        #         header = header,\n",
    "        #         bulge  = bulge,\n",
    "        #         disk   = disk\n",
    "        # )\n",
    "        # \n",
    "        # galaxy_feedme.to_file()\n",
    "        # \n",
    "        # #print(galaxy_feedme)\n",
    "        # process = sp(f\"{RUN_GALFIT} {feedme}\")\n",
    "        # \n",
    "        # # Open the FITS file\n",
    "        # fits_file = fits.open(output_filename)\n",
    "        # \n",
    "        # # Extract the image data from the FITS file\n",
    "        # image_data_fits     = fits_file[0].data - galaxy_feedme.sky.sky_background.value\n",
    "        # new_image_data_fits = deepcopy(image_data_fits)\n",
    "        # \n",
    "        # #image_data_array = fits_file[1].data\n",
    "        # \n",
    "        # # Close the FITS file\n",
    "        # fits_file.close()\n",
    "        \n",
    "        # # Create a figure and subplots\n",
    "        # fig, ax1 = plt.subplots(1, 1, figsize=(10, 5))\n",
    "        # \n",
    "        # # Display the FITS image\n",
    "        # image_fits = ax1.imshow(np.log(1 + image_data_fits), cmap='gray')\n",
    "        # \n",
    "        # # Display the array image\n",
    "        # #image_array = ax2.imshow(image_data_array, cmap='gray')\n",
    "        # \n",
    "        # # Create a slider widget for the FITS image\n",
    "        # slider_fits = widgets.FloatSlider(value = 1.0, min = 0.0, max = 2.0, step=0.01, description='FITS Scale:', continuous_update=True)\n",
    "        # \n",
    "        # # Create a slider widget for the array image\n",
    "        # #slider_array = widgets.FloatSlider(value=1.0, min=0.1, max=2.0, step=0.1, description='Array Scale:', continuous_update=True)\n",
    "        # \n",
    "        # # Function to update the FITS image when slider value changes\n",
    "        # def update_image_fits(change):\n",
    "        #     # Update the image data based on the slider value\n",
    "        #     new_image_data_fits = change.new * np.log(1 + image_data_fits)\n",
    "        # \n",
    "        #     # Update the FITS image with new data\n",
    "        #     image_fits.set_data(new_image_data_fits)\n",
    "        # \n",
    "        #     # Redraw the figure\n",
    "        #     fig.canvas.draw()\n",
    "        # \n",
    "        # # Attach the update_image_fits function to the FITS slider's value change event\n",
    "        # slider_fits.observe(update_image_fits, 'value')\n",
    "        # \n",
    "        # # Attach the update_image_array function to the array slider's value change event\n",
    "        # #slider_array.observe(update_image_array, 'value')\n",
    "        # \n",
    "        # # Display the slider widgets\n",
    "        # display(widgets.HBox([slider_fits])) #, slider_array]))\n",
    "        # \n",
    "        # # Add any additional customization you need to the subplots\n",
    "        # ax1.set_title('FITS Image')\n",
    "        # ax1.set_xlabel('X-axis')\n",
    "        # ax1.set_ylabel('Y-axis')\n",
    "        # \n",
    "        # #ax2.set_title('Residual')\n",
    "        # #ax2.set_xlabel('X-axis')\n",
    "        # #ax2.set_ylabel('Y-axis')\n",
    "        # \n",
    "        # # Show the plot\n",
    "        # plt.show()\n",
    "            \n",
    "        # x = input()\n",
    "        count += 1\n",
    "        \n",
    "    g_number += 1"
   ],
   "outputs": [
    {
     "name": "stdout",
     "output_type": "stream",
     "text": [
      "The freq is (2363203694.980053+5119.532655647039j) Hz.\n"
     ]
    },
    {
     "data": {
      "text/plain": [
       "<Figure size 640x480 with 0 Axes>"
      ]
     },
     "metadata": {},
     "output_type": "display_data"
    },
    {
     "data": {
      "text/plain": [
       "<Figure size 640x480 with 1 Axes>"
      ],
      "image/png": "[encoded data removed]"
     },
     "metadata": {},
     "output_type": "display_data"
    }
   ],
   "execution_count": 55
  },
  {
   "metadata": {
    "ExecuteTime": {
     "end_time": "2024-12-04T02:30:41.050585Z",
     "start_time": "2024-12-04T02:30:40.975850Z"
    }
   },
   "cell_type": "code",
   "source": [
    "plt.clf()\n",
    "fig,ax = plt.subplots()\n",
    "ax.plot(freqs[mask], np.abs(FT[mask])**2)\n",
    "plt.show()"
   ],
   "id": "3de2b0ea0ae20f83",
   "outputs": [
    {
     "data": {
      "text/plain": [
       "<Figure size 640x480 with 0 Axes>"
      ]
     },
     "metadata": {},
     "output_type": "display_data"
    },
    {
     "data": {
      "text/plain": [
       "<Figure size 640x480 with 1 Axes>"
      ],
      "image/png": "[encoded data removed]"
     },
     "metadata": {},
     "output_type": "display_data"
    }
   ],
   "execution_count": 30
  }
 ],
 "metadata": {
  "kernelspec": {
   "display_name": "Python 3 (ipykernel)",
   "language": "python",
   "name": "python3"
  },
  "language_info": {
   "codemirror_mode": {
    "name": "ipython",
    "version": 3
   },
   "file_extension": ".py",
   "mimetype": "text/x-python",
   "name": "python",
   "nbconvert_exporter": "python",
   "pygments_lexer": "ipython3",
   "version": "3.9.13"
  }
 },
 "nbformat": 4,
 "nbformat_minor": 5
}
