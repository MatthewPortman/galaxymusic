{
 "cells": [
  {
   "cell_type": "code",
   "id": "7d35682d",
   "metadata": {
    "ExecuteTime": {
     "end_time": "2024-12-05T07:24:35.582943Z",
     "start_time": "2024-12-05T07:24:35.577650Z"
    }
   },
   "source": [
    "from pathlib import Path\n",
    "from collections import Counter\n",
    "from random import randint, seed"
   ],
   "outputs": [],
   "execution_count": 84
  },
  {
   "metadata": {
    "ExecuteTime": {
     "end_time": "2024-12-05T06:04:53.060545Z",
     "start_time": "2024-12-05T06:04:52.444119Z"
    }
   },
   "cell_type": "code",
   "source": [
    "from _galfitlib.functions.helper_functions import pj, exists\n",
    "from _galfitlib.utilities.music.galfit_with_music_update import galfitting, process_galfit_output\n",
    "from audioprocessing.audio_processing_functions import load_audio, time_step_analysis\n",
    "from audioprocessing.notes import note_ranges_for_search\n",
    "from visualization import generate_mosaic"
   ],
   "id": "6caa161b3e9397ec",
   "outputs": [],
   "execution_count": 2
  },
  {
   "cell_type": "code",
   "id": "4c45b96f",
   "metadata": {
    "ExecuteTime": {
     "end_time": "2024-12-05T06:04:53.462028Z",
     "start_time": "2024-12-05T06:04:53.061847Z"
    }
   },
   "source": [
    "import numpy as np\n",
    "import matplotlib.pyplot as plt"
   ],
   "outputs": [],
   "execution_count": 3
  },
  {
   "metadata": {
    "ExecuteTime": {
     "end_time": "2024-12-05T06:04:53.580325Z",
     "start_time": "2024-12-05T06:04:53.571522Z"
    }
   },
   "cell_type": "code",
   "source": [
    "def binary_search_ranges(ranges, values : list) -> list[tuple[str, float]]:\n",
    "    \"\"\"\n",
    "    Wrapper for binary search on a list of values in a list of ranges\n",
    "    \"\"\"\n",
    "    def binary_search(ranges : list, value : float) -> tuple[str, float]:\n",
    "        \"\"\"\n",
    "        Binary search for a value in a list of ranges\n",
    "        Thanks to https://stackoverflow.com/a/65518827 for the code\n",
    "        \n",
    "        Parameters\n",
    "        ----------\n",
    "        ranges : list\n",
    "            List of dictionaries containing the frequency ranges to search\n",
    "        value : float\n",
    "            Value to search for\n",
    "            \n",
    "        Returns\n",
    "        -------\n",
    "        str\n",
    "            Note corresponding to the value\n",
    "        float\n",
    "            Difference between the value and the start of the frequency range\n",
    "        \"\"\"\n",
    "    \n",
    "        if len(ranges) == 1:\n",
    "            if ranges[0][\"start\"] <= value <= ranges[0][\"end\"]:\n",
    "                pass\n",
    "            else:\n",
    "                print(f\"Value ({value:.2f}) not found in *any* range.\")\n",
    "                print(f\"Choosing note: {ranges[0]['value']}\")\n",
    "                \n",
    "            # Normalize the difference wrt the total length of the range\n",
    "            # Maximum value is 1 so if a value is at the beyond the range, \n",
    "            # in the case of gaps (per above) it will be set to 1\n",
    "            range_len = ranges[0][\"end\"] - ranges[0][\"start\"]\n",
    "            return (\n",
    "                ranges[0][\"value\"], \n",
    "                min(\n",
    "                        (value - ranges[0][\"start\"])/range_len, 1\n",
    "                )\n",
    "            )\n",
    "    \n",
    "        mid = len(ranges) // 2\n",
    "        if ranges[mid][\"end\"] < value:\n",
    "            return binary_search(ranges[mid:], value)\n",
    "        elif ranges[mid][\"start\"] > value:\n",
    "            return binary_search(ranges[:mid], value)\n",
    "        else:\n",
    "            # Normalize the difference wrt the total length of the range\n",
    "            range_len = ranges[mid][\"end\"] - ranges[mid][\"start\"]\n",
    "            return (\n",
    "                ranges[mid][\"value\"], \n",
    "                (value - ranges[mid][\"start\"])/range_len\n",
    "            )\n",
    "        \n",
    "    return [binary_search(ranges_for_search, value) for value in values]\n",
    "    #yield binary_search(ranges_for_search, value)"
   ],
   "id": "186736acbc646f71",
   "outputs": [],
   "execution_count": 10
  },
  {
   "cell_type": "code",
   "id": "e138d656",
   "metadata": {
    "ExecuteTime": {
     "end_time": "2024-12-05T06:29:17.816524Z",
     "start_time": "2024-12-05T06:29:17.813687Z"
    }
   },
   "source": [
    "g_prefix = \"galaxy\"\n",
    "g_number = 0\n",
    "\n",
    "cwd = Path.cwd()\n",
    "\n",
    "IN_DIR  = pj(cwd, \"music-in\")\n",
    "TMP_DIR = pj(cwd, \"music-tmp\")\n",
    "OUT_DIR = pj(cwd, \"music-out\")\n",
    "\n",
    "previous = False"
   ],
   "outputs": [],
   "execution_count": 67
  },
  {
   "metadata": {},
   "cell_type": "code",
   "outputs": [],
   "execution_count": null,
   "source": [
    "%matplotlib inline\n",
    "#%matplotlib notebook"
   ],
   "id": "c343548d23937dfb"
  },
  {
   "cell_type": "code",
   "id": "b04c942b",
   "metadata": {
    "ExecuteTime": {
     "end_time": "2024-12-05T06:29:26.962870Z",
     "start_time": "2024-12-05T06:29:19.534670Z"
    }
   },
   "source": [
    "if __name__ == \"__main__\":\n",
    "    plt.clf()\n",
    "    \n",
    "    gname = \"template\"\n",
    "    music_filename = \"brown_alma_mater.mp3\"\n",
    "    \n",
    "    height = 1000\n",
    "    width  = 1000\n",
    "    # square\n",
    "    model_dim    = 200\n",
    "    model_offset = model_dim//2\n",
    "\n",
    "    initial_seed_value = 42\n",
    "    \n",
    "    image_array = np.zeros((height, width))\n",
    "    \n",
    "    list_o_notes = []\n",
    "    volumes      = []\n",
    "    all_models   = []\n",
    "    \n",
    "    if not exists(pj(OUT_DIR, gname)):\n",
    "        pj(OUT_DIR, gname).mkdir()\n",
    "    \n",
    "    feedme_0          = pj(OUT_DIR, gname, f\"{gname}.in\")\n",
    "    input_filename_0  = pj(IN_DIR, f\"{gname}.fits\")\n",
    "    output_filename_0 = pj(OUT_DIR, gname, f\"{gname}.fits\")\n",
    "    \n",
    "    delay = 0.5\n",
    "    signal, sample_rate, time_array = load_audio(music_filename, delay = delay)\n",
    "    \n",
    "    # Every 2 seconds\n",
    "    time_step   = 2\n",
    "    t_step_size = time_step * sample_rate\n",
    "    t_initial   = int(delay * sample_rate) + t_step_size\n",
    "        \n",
    "    # Written as such to prepare for async processing\n",
    "    for t_step in range(t_initial, len(time_array), t_step_size):\n",
    "        \n",
    "        selected_peaks, volume = time_step_analysis(signal, sample_rate)\n",
    "        peak_notes = binary_search_ranges(note_ranges_for_search, selected_peaks)\n",
    "        if peak_notes is None:\n",
    "            continue\n",
    "        \n",
    "        list_o_notes.append(peak_notes)\n",
    "        volumes.append(volume)\n",
    "    \n",
    "    # Flatten the list of lists of notes for Counter\n",
    "    flattened_list_o_notes = [note[0] for sublist in list_o_notes for note in sublist]\n",
    "    \n",
    "    # Counter does not sort by frequency, so we need to sort it\n",
    "    sorted_counter = {\n",
    "        k : v for k, v in sorted(\n",
    "                Counter(flattened_list_o_notes).items(), key=lambda item: item[1], \n",
    "                reverse = True\n",
    "        )\n",
    "    }\n",
    "    \n",
    "    note_priority_map = {\n",
    "        note : priority_num \n",
    "        for priority_num, note in enumerate(\n",
    "                sorted_counter.keys()\n",
    "        )\n",
    "    }\n",
    "    \n",
    "    # Normalize volumes\n",
    "    volumes      = np.array(volumes)\n",
    "    max_volume   = np.max(volumes)\n",
    "    min_volume   = np.min(volumes)\n",
    "    \n",
    "    norm_volumes = (volumes - min_volume)/(max_volume - min_volume)\n",
    "    \n",
    "    seed_value = initial_seed_value\n",
    "    for i, (notes_chunk, norm_volume) in enumerate(zip(list_o_notes, norm_volumes)):\n",
    "        \n",
    "        # Leaving this as such can allow me to debug things later\n",
    "        # Based on their coordinates in the image\n",
    "        seed(seed_value)\n",
    "        x_pos = randint(model_offset, width  - model_offset)\n",
    "        y_pos = randint(model_offset, height - model_offset)\n",
    "        seed_value += 1\n",
    "        \n",
    "        output_filename = galfitting(\n",
    "                feedme_0, \n",
    "                input_filename_0, \n",
    "                output_filename_0, \n",
    "                gname,\n",
    "                x_pos, \n",
    "                y_pos, \n",
    "                model_offset,\n",
    "                note_priority_map,\n",
    "                notes_chunk, \n",
    "                norm_volume, \n",
    "                i\n",
    "        )\n",
    "        \n",
    "        image_array += process_galfit_output(\n",
    "                output_filename, \n",
    "                height, \n",
    "                width,\n",
    "                x_pos, \n",
    "                y_pos,\n",
    "                model_dim,\n",
    "                model_offset\n",
    "        )\n",
    "        \n",
    "        _ = generate_mosaic(image_array)\n",
    "        "
   ],
   "outputs": [
    {
     "name": "stdout",
     "output_type": "stream",
     "text": [
      "Value (688.00) not found in *any* range.\n",
      "Choosing note: E5\n",
      "Value (689.00) not found in *any* range.\n",
      "Choosing note: E5\n",
      "Value (695.95) not found in *any* range.\n",
      "Choosing note: E5\n",
      "Value (688.50) not found in *any* range.\n",
      "Choosing note: E5\n",
      "Value (688.00) not found in *any* range.\n",
      "Choosing note: E5\n",
      "Value (688.17) not found in *any* range.\n",
      "Choosing note: E5\n"
     ]
    },
    {
     "data": {
      "text/plain": [
       "<Figure size 640x480 with 0 Axes>"
      ]
     },
     "metadata": {},
     "output_type": "display_data"
    }
   ],
   "execution_count": 77
  }
 ],
 "metadata": {
  "kernelspec": {
   "display_name": "Python 3 (ipykernel)",
   "language": "python",
   "name": "python3"
  },
  "language_info": {
   "codemirror_mode": {
    "name": "ipython",
    "version": 3
   },
   "file_extension": ".py",
   "mimetype": "text/x-python",
   "name": "python",
   "nbconvert_exporter": "python",
   "pygments_lexer": "ipython3",
   "version": "3.9.13"
  }
 },
 "nbformat": 4,
 "nbformat_minor": 5
}
