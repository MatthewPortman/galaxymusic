{
 "cells": [
  {
   "cell_type": "code",
   "id": "7d35682d",
   "metadata": {
    "ExecuteTime": {
     "end_time": "2024-12-06T23:22:38.400854Z",
     "start_time": "2024-12-06T23:22:38.250827Z"
    }
   },
   "source": [
    "from pathlib import Path\n",
    "from collections import Counter\n",
    "from shutil import copy\n",
    "from joblib import Parallel, delayed"
   ],
   "outputs": [],
   "execution_count": 1
  },
  {
   "cell_type": "code",
   "id": "4c45b96f",
   "metadata": {
    "ExecuteTime": {
     "end_time": "2024-12-06T23:22:38.618214Z",
     "start_time": "2024-12-06T23:22:38.402251Z"
    }
   },
   "source": [
    "from random import randint\n",
    "import numpy as np\n",
    "import matplotlib.pyplot as plt"
   ],
   "outputs": [],
   "execution_count": 2
  },
  {
   "cell_type": "code",
   "id": "6caa161b3e9397ec",
   "metadata": {
    "ExecuteTime": {
     "end_time": "2024-12-06T23:22:39.179575Z",
     "start_time": "2024-12-06T23:22:38.619218Z"
    }
   },
   "source": [
    "from _galfitlib.functions.helper_functions import pj, exists, sp\n",
    "from _galfitlib.utilities.music.galfit_with_music_update import galfitting, process_galfit_output\n",
    "from audioprocessing.audio_processing_functions import load_audio, time_step_analysis\n",
    "from audioprocessing.notes import note_ranges_for_search\n",
    "from visualization.generate_mosaic import add_galaxy_to_mosaic"
   ],
   "outputs": [],
   "execution_count": 3
  },
  {
   "cell_type": "code",
   "id": "b1e13835a6ec44a8",
   "metadata": {
    "ExecuteTime": {
     "end_time": "2024-12-06T23:22:39.183642Z",
     "start_time": "2024-12-06T23:22:39.181201Z"
    }
   },
   "source": "from IPython.display import Video",
   "outputs": [],
   "execution_count": 4
  },
  {
   "metadata": {},
   "cell_type": "markdown",
   "source": [
    "# Local Helper Functions\n",
    "`binary_search_ranges` is a wrapper for binary search on a list of values in a list of ranges. This\n",
    "is used to identify the primary notes in the Fourier analysis of the audio signal.\n",
    "\n",
    "`sum_arrays_in_list` sums all numpy arrays in a list.\n",
    "\n",
    "`plot_wrapper` is a wrapper for plotting the galaxies and outputting them to file.\n",
    "\n",
    "`_parallel_plot_wrapper` parallelizes the plotting of the galaxies.\n",
    "\n",
    "`_parallel_galfit_wrapper` parallelizes the GALFIT process."
   ],
   "id": "53a3a5d7f1acee4c"
  },
  {
   "cell_type": "code",
   "id": "186736acbc646f71",
   "metadata": {
    "ExecuteTime": {
     "end_time": "2024-12-06T23:22:39.193712Z",
     "start_time": "2024-12-06T23:22:39.184582Z"
    }
   },
   "source": [
    "# ======================== BEGIN HELPER FUNCTIONS ===============================================\n",
    "\n",
    "def binary_search_ranges(ranges_for_search, values : list) -> list[tuple[str, float]]:\n",
    "    \"\"\"\n",
    "    Wrapper for binary search on a list of values in a list of ranges\n",
    "    \"\"\"\n",
    "    def binary_search(ranges : list, value : float, debug = False) -> tuple[str, float]:\n",
    "        \"\"\"\n",
    "        Binary search for a value in a list of ranges\n",
    "        Thanks to https://stackoverflow.com/a/65518827 for the code\n",
    "        \n",
    "        Parameters\n",
    "        ----------\n",
    "        ranges : list\n",
    "            List of dictionaries containing the frequency ranges to search\n",
    "        value : float\n",
    "            Value to search for\n",
    "        debug : bool\n",
    "            Debug mode\n",
    "            \n",
    "        Returns\n",
    "        -------\n",
    "        str\n",
    "            Note corresponding to the value\n",
    "        float\n",
    "            Difference between the value and the start of the frequency range\n",
    "        \"\"\"\n",
    "    \n",
    "        if len(ranges) == 1:\n",
    "            if ranges[0][\"start\"] <= value <= ranges[0][\"end\"]:\n",
    "                pass\n",
    "            elif debug:\n",
    "                print(f\"Value ({value:.2f}) not found in *any* range.\")\n",
    "                print(f\"Choosing note: {ranges[0]['value']}\")\n",
    "                \n",
    "            # Normalize the difference wrt the total length of the range\n",
    "            # Maximum value is 1 so if a value is at the beyond the range, \n",
    "            # in the case of gaps (per above) it will be set to 1\n",
    "            range_len = ranges[0][\"end\"] - ranges[0][\"start\"]\n",
    "            return (\n",
    "                ranges[0][\"value\"], \n",
    "                min(\n",
    "                        (value - ranges[0][\"start\"])/range_len, 1\n",
    "                )\n",
    "            )\n",
    "    \n",
    "        mid = len(ranges) // 2\n",
    "        if ranges[mid][\"end\"] < value:\n",
    "            return binary_search(ranges[mid:], value)\n",
    "        elif ranges[mid][\"start\"] > value:\n",
    "            return binary_search(ranges[:mid], value)\n",
    "        else:\n",
    "            # Normalize the difference wrt the total length of the range\n",
    "            range_len = ranges[mid][\"end\"] - ranges[mid][\"start\"]\n",
    "            return (\n",
    "                ranges[mid][\"value\"], \n",
    "                (value - ranges[mid][\"start\"])/range_len\n",
    "            )\n",
    "        \n",
    "    return [binary_search(ranges_for_search, value) for value in values]\n",
    "    #yield binary_search(ranges_for_search, value)"
   ],
   "outputs": [],
   "execution_count": 5
  },
  {
   "cell_type": "code",
   "id": "2376d12e7a5b4c95",
   "metadata": {
    "ExecuteTime": {
     "end_time": "2024-12-06T23:22:39.205196Z",
     "start_time": "2024-12-06T23:22:39.194737Z"
    }
   },
   "source": [
    "def sum_arrays_in_list(input_list : list[np.ndarray]) -> np.ndarray:\n",
    "    \"\"\"\n",
    "    Sum all arrays in a list\n",
    "    \n",
    "    Parameters\n",
    "    ----------\n",
    "    input_list : list\n",
    "        List of arrays to sum\n",
    "        \n",
    "    Returns\n",
    "    -------\n",
    "    np.ndarray\n",
    "        Sum of all arrays in the list\n",
    "    \"\"\"\n",
    "    return np.sum(np.stack(input_list, axis = 0), axis = 0)"
   ],
   "outputs": [],
   "execution_count": 6
  },
  {
   "cell_type": "code",
   "id": "d3c63f6958c9981e",
   "metadata": {
    "ExecuteTime": {
     "end_time": "2024-12-06T23:22:39.214753Z",
     "start_time": "2024-12-06T23:22:39.206234Z"
    }
   },
   "source": [
    "def plot_wrapper(\n",
    "        all_images  : list[np.ndarray],\n",
    "        image_count : int,\n",
    "        fade_frames : int\n",
    "):\n",
    "    \"\"\"\n",
    "    Wrapper for plotting the galaxies and outputting them to file.\n",
    "    \n",
    "    Parameters\n",
    "    ----------\n",
    "    all_images : list\n",
    "        List of images to plot\n",
    "    image_count : int\n",
    "        Current image count\n",
    "    fade_frames : int\n",
    "        Number of frames to fade in the galaxies\n",
    "        \n",
    "    Returns\n",
    "    -------\n",
    "    None\n",
    "    \"\"\"\n",
    "    \n",
    "    # Create a 0 image to be overplotted by the current image\n",
    "    if image_count == 0:\n",
    "        image_array_to_this_point = np.zeros(np.shape(all_images[0]))\n",
    "        \n",
    "    elif image_count == 1:\n",
    "        image_array_to_this_point = all_images[0]\n",
    "    \n",
    "    # Create a sum of all images up to this point for the 'background'    \n",
    "    else:\n",
    "        image_array_to_this_point = sum_arrays_in_list(\n",
    "                all_images[:image_count]\n",
    "        )\n",
    "    \n",
    "    # Current image\n",
    "    image_array = all_images[image_count]\n",
    "    \n",
    "    # Initialize an alpha image array in an attempt to fade\n",
    "    # only the area closest to the brightest part of the galaxy\n",
    "    # ... it's not perfect\n",
    "    alpha_image_array = np.zeros(np.shape(image_array))    \n",
    "    alpha_image_array[image_array > np.percentile(image_array, 99)] = 1\n",
    "    \n",
    "    # To fade in the galaxies\n",
    "    fade_frames += 1 # +1 to exclude the last fully opaque frame\n",
    "    for j in range(1, fade_frames):\n",
    "        suffix_count = image_count * (fade_frames - 1) + j\n",
    "        add_galaxy_to_mosaic(\n",
    "                1, \n",
    "                [image_array_to_this_point],\n",
    "                100000,\n",
    "                save            = True, \n",
    "                filename        = pj(MOSAIC_DIR, f\"mosaic_{suffix_count}.jpg\"),\n",
    "                save_alpha      = (j / fade_frames) * alpha_image_array,\n",
    "                secondary_image = image_array\n",
    "        )"
   ],
   "outputs": [],
   "execution_count": 7
  },
  {
   "cell_type": "code",
   "id": "7ff12e524f885785",
   "metadata": {
    "ExecuteTime": {
     "end_time": "2024-12-06T23:22:39.226144Z",
     "start_time": "2024-12-06T23:22:39.215703Z"
    }
   },
   "source": [
    "def _parallel_plot_wrapper(\n",
    "        all_images,\n",
    "        fade_frames = 8\n",
    "):\n",
    "    \"\"\"\n",
    "    Parallelizes the plotting of the galaxies.\n",
    "    \n",
    "    All input parameters are used directly with the corresponding functions. \n",
    "    Please see the documentation therein.\n",
    "    \"\"\"\n",
    "    \n",
    "    _ = Parallel(n_jobs = -2, backend='multiprocessing')(\n",
    "            delayed(plot_wrapper)(\n",
    "                    all_images,\n",
    "                    image_count,\n",
    "                    fade_frames\n",
    "            ) for image_count in range(len(all_images))\n",
    "    )"
   ],
   "outputs": [],
   "execution_count": 8
  },
  {
   "metadata": {
    "ExecuteTime": {
     "end_time": "2024-12-06T23:22:39.237873Z",
     "start_time": "2024-12-06T23:22:39.227163Z"
    }
   },
   "cell_type": "code",
   "source": [
    "def _parallel_galfit_wrapper(\n",
    "        feedme_0,\n",
    "        input_filename_0,\n",
    "        output_filename_0,\n",
    "        gname,\n",
    "        x_pos,\n",
    "        y_pos,\n",
    "        model_offset,\n",
    "        note_priority_map,\n",
    "        notes_chunk,\n",
    "        norm_volume,\n",
    "        image_array,\n",
    "        height,\n",
    "        width,\n",
    "        model_dim,\n",
    "        seed_value = None\n",
    "):\n",
    "    \"\"\"\n",
    "    Parallelizes the GALFIT process.\n",
    "    \n",
    "    All input parameters are used directly with the corresponding functions. \n",
    "    Please see the documentation therein.\n",
    "    \"\"\"\n",
    "    \n",
    "    # Run GALFIT!\n",
    "    # It's ugly but it works.\n",
    "    image_array = Parallel(n_jobs = -2, backend='multiprocessing')(\n",
    "            delayed(process_galfit_output)(\n",
    "                    *galfitting(\n",
    "                            feedme_0, \n",
    "                            input_filename_0, \n",
    "                            output_filename_0, \n",
    "                            gname,\n",
    "                            height,\n",
    "                            width,\n",
    "                            model_offset,\n",
    "                            note_priority_map,\n",
    "                            notes_chunk, \n",
    "                            norm_volume, \n",
    "                            i,\n",
    "                            seed_value = seed_value\n",
    "                    )\n",
    "            ) for i, (notes_chunk, norm_volume) in enumerate(zip(list_o_notes, norm_volumes))\n",
    "    )\n",
    "    \n",
    "    return image_array"
   ],
   "id": "cc4abcb0f49b3bd5",
   "outputs": [],
   "execution_count": 9
  },
  {
   "metadata": {
    "ExecuteTime": {
     "end_time": "2024-12-06T23:22:39.246733Z",
     "start_time": "2024-12-06T23:22:39.239895Z"
    }
   },
   "cell_type": "code",
   "source": "# ===================== END HELPER FUNCTIONS ===============================================",
   "id": "3849b41077ddf64",
   "outputs": [],
   "execution_count": 10
  },
  {
   "metadata": {
    "ExecuteTime": {
     "end_time": "2024-12-06T23:22:39.255863Z",
     "start_time": "2024-12-06T23:22:39.247610Z"
    }
   },
   "cell_type": "code",
   "source": [
    "# These can be used with jupyter notebooks\n",
    "#%matplotlib inline\n",
    "#%load_ext autoreload\n",
    "#%autoreload 2\n",
    "#%matplotlib notebook"
   ],
   "id": "c343548d23937dfb",
   "outputs": [],
   "execution_count": 11
  },
  {
   "metadata": {},
   "cell_type": "markdown",
   "source": [
    "# Main Script\n",
    "The following cell contains the hyperparameters for the script. \n",
    "The most important hyperparameter is the `music_filename` or music file, please select any audio \n",
    "that you like. The script will process that audio and generate a galaxy mosaic image and video\n",
    "based on the Fourier analysis of the music. The video is ultimately for the formation of the \n",
    "galaxy mosaic set to the music."
   ],
   "id": "23387773a6d8e344"
  },
  {
   "cell_type": "code",
   "id": "b04c942b",
   "metadata": {
    "ExecuteTime": {
     "end_time": "2024-12-06T23:22:40.959433Z",
     "start_time": "2024-12-06T23:22:39.256711Z"
    }
   },
   "source": [
    "# ======================== BEGIN HYPERPARAMETERS ===============================================\n",
    "if __name__ == \"__main__\":\n",
    "    plt.clf()\n",
    "\n",
    "    # SELECT YOUR MUSIC\n",
    "    music_filename = \"brown_alma_mater.mp3\"\n",
    "    \n",
    "    # Image size hyperparameters\n",
    "    height = 1000\n",
    "    width  = 1000\n",
    "    # square\n",
    "    model_dim    = 250\n",
    "    model_offset = model_dim//2\n",
    "    \n",
    "    # Number of frames to fade in the galaxies\n",
    "    fade_frames = 16\n",
    "\n",
    "    # Wait half a second before starting the analysis\n",
    "    delay = 0.5\n",
    "    signal, sample_rate, time_array = load_audio(music_filename, delay = delay)\n",
    "\n",
    "    # Process every 2 seconds of the song\n",
    "    time_step   = 2\n",
    "    t_step_size = time_step * sample_rate\n",
    "    t_initial   = int(delay * sample_rate) + t_step_size\n",
    "    \n",
    "# ============================ END HYPERPARAMETERS ================================================="
   ],
   "outputs": [
    {
     "data": {
      "text/plain": [
       "<Figure size 640x480 with 0 Axes>"
      ]
     },
     "metadata": {},
     "output_type": "display_data"
    }
   ],
   "execution_count": 12
  },
  {
   "metadata": {},
   "cell_type": "markdown",
   "source": "# Set directories and initialize filenames",
   "id": "4862f75be348a28a"
  },
  {
   "metadata": {
    "ExecuteTime": {
     "end_time": "2024-12-06T23:23:01.334468Z",
     "start_time": "2024-12-06T23:23:01.321257Z"
    }
   },
   "cell_type": "code",
   "source": [
    "# ============================ BEGIN DIRECTORY THINGS ==========================================\n",
    "if __name__ == \"__main__\":\n",
    "    # Assume running from the galaxymusic top directory\n",
    "    # if not, please copy the music-in directory to the directory where this script is located\n",
    "    # This holds the template galaxy needed by GALFIT. Everything else will be done for you.\n",
    "    cwd = Path.cwd()\n",
    "    \n",
    "    IN_DIR      = pj(cwd, \"music-in\")        \n",
    "    TMP_DIR     = pj(cwd, \"music-tmp\")\n",
    "    MOSAIC_DIR  = pj(TMP_DIR, \"mosaics\")\n",
    "    GALFITS_DIR = pj(TMP_DIR, \"galfits\")\n",
    "    OUT_DIR     = pj(cwd, \"music-out\")\n",
    "\n",
    "    # Make a temporary directory for the mosaic images\n",
    "    if not exists(MOSAIC_DIR):\n",
    "        MOSAIC_DIR.mkdir()\n",
    "        \n",
    "    # Make a temporary directory for the GALFIT output\n",
    "    if not exists(GALFITS_DIR):\n",
    "        GALFITS_DIR.mkdir()\n",
    "    \n",
    "    gname = \"template\"\n",
    "    \n",
    "    feedme_0          = pj(GALFITS_DIR, f\"{gname}.in\")\n",
    "    input_filename_0  = pj(IN_DIR, f\"{gname}.fits\")\n",
    "    output_filename_0 = pj(GALFITS_DIR, f\"{gname}.fits\")\n",
    "    \n",
    "    if not exists(input_filename_0):\n",
    "        raise FileNotFoundError(f\"Template galaxy not found in {IN_DIR}\")\n",
    "    \n",
    "# ============================== END DIRECTORY THINGS =============================================="
   ],
   "id": "e1083dc8e42470c2",
   "outputs": [],
   "execution_count": 14
  },
  {
   "metadata": {},
   "cell_type": "markdown",
   "source": [
    "# Load the audio file and process it\n",
    "We load the audio file and process it in chunks of `time_step` seconds. The Fourier analysis is\n",
    "performed on each chunk and the primary notes are identified. The volume of each chunk is also\n",
    "found and used in the generation of the galaxies in the mosaic. "
   ],
   "id": "378489155f72115a"
  },
  {
   "metadata": {
    "ExecuteTime": {
     "end_time": "2024-12-06T23:23:02.826431Z",
     "start_time": "2024-12-06T23:23:02.583198Z"
    }
   },
   "cell_type": "code",
   "source": [
    "# ============================== BEGIN PROCESSING RECORDED AUDIO ===================================\n",
    "if __name__ == \"__main__\":\n",
    "    # Initializing some lists\n",
    "    list_o_notes = []\n",
    "    volumes      = []\n",
    "    all_images   = []\n",
    "\n",
    "    # Written as such to prepare for async processing with live audio.\n",
    "    # Async is not needed for now.\n",
    "    for t_step in range(t_initial, len(time_array), t_step_size):\n",
    "\n",
    "        signal_cut = signal[t_step - t_step_size : t_step]\n",
    "\n",
    "        # Select frequency peaks and get RMS volume\n",
    "        selected_peaks, volume = time_step_analysis(signal_cut, sample_rate)\n",
    "        if selected_peaks is None:\n",
    "            continue\n",
    "\n",
    "        # Search for notes by their frequency range using the selected frequency peaks\n",
    "        peak_notes = binary_search_ranges(note_ranges_for_search, selected_peaks)\n",
    "\n",
    "        # Store\n",
    "        list_o_notes.append(peak_notes)\n",
    "        volumes.append(volume)\n",
    "    \n",
    "# ============================== END PROCESSING RECORDED AUDIO ====================================="
   ],
   "id": "fe26c5d6b899a331",
   "outputs": [],
   "execution_count": 15
  },
  {
   "metadata": {},
   "cell_type": "markdown",
   "source": [
    "# Prepare for GALFIT\n",
    "We prepare the data we have just processed from the music to be used in the GALFIT process.\n",
    "This is mostly some re-organizing of data structures and the identification of the most common\n",
    "notes found in the audio segment."
   ],
   "id": "f95736fb788c60b7"
  },
  {
   "metadata": {
    "ExecuteTime": {
     "end_time": "2024-12-06T23:23:03.606798Z",
     "start_time": "2024-12-06T23:23:03.602579Z"
    }
   },
   "cell_type": "code",
   "source": [
    "# ============================== BEGIN PREPARATION FOR GALFIT  =====================================\n",
    "if __name__ == \"__main__\":    \n",
    "    # Flatten the list of lists of notes for Counter\n",
    "    flattened_list_o_notes = [note[0] for sublist in list_o_notes for note in sublist]\n",
    "    \n",
    "    # Counter does not sort by frequency, so we need to sort it\n",
    "    sorted_counter = {\n",
    "        k : v for k, v in sorted(\n",
    "                Counter(flattened_list_o_notes).items(), key=lambda item: item[1], \n",
    "                reverse = True\n",
    "        )\n",
    "    }\n",
    "\n",
    "    # Map notes to how number indicating often they show up in the Fourier analysis\n",
    "    # aka their 'priority number'\n",
    "    note_priority_map = {\n",
    "        note : priority_num\n",
    "        for priority_num, note in enumerate(\n",
    "                sorted_counter.keys()\n",
    "        )\n",
    "    }\n",
    "    \n",
    "    # Normalize volumes\n",
    "    volumes      = np.array(volumes)\n",
    "    max_volume   = np.max(volumes)\n",
    "    min_volume   = np.min(volumes)\n",
    "    norm_volumes = (volumes - min_volume)/(1 + max_volume - min_volume)\n",
    "\n",
    "    # Initialize model generation loop\n",
    "    image_array      = np.zeros((height, width))\n",
    "    full_image_array = np.zeros((height, width))\n",
    "    \n",
    "    # Set a seed value\n",
    "    # If None, then seed uses the current time.\n",
    "    initial_seed_value = None\n",
    "    \n",
    "# ============================== END PREPARATION FOR GALFIT  ======================================="
   ],
   "id": "872b9f43643b4f6e",
   "outputs": [],
   "execution_count": 16
  },
  {
   "metadata": {},
   "cell_type": "markdown",
   "source": [
    "# Create Models and Output FITS images\n",
    "In the cell below, we create the models and output the FITS images for each galaxy. This is done\n",
    "in parallel. The two functions used here are `galfitting` and `process_galfit_output`.\n",
    "The `galfitting` function is used to generate the models and output the FITS images \n",
    "while the `process_galfit_output` function is used to process the output of GALFIT and extract the\n",
    "raw data from the FITS images."
   ],
   "id": "f45e56ebde7b6afa"
  },
  {
   "metadata": {
    "ExecuteTime": {
     "end_time": "2024-12-06T23:23:12.579622Z",
     "start_time": "2024-12-06T23:23:04.205092Z"
    }
   },
   "cell_type": "code",
   "source": [
    "# ========================= CREATE MODELS AND OUTPUT FITS IMAGES ===================================\n",
    "if __name__ == \"__main__\":\n",
    "    # Parallelize     \n",
    "    all_images = _parallel_galfit_wrapper(\n",
    "            feedme_0,\n",
    "            input_filename_0,\n",
    "            output_filename_0,\n",
    "            gname,\n",
    "            randint(0, width - model_dim),\n",
    "            randint(0, height - model_dim),\n",
    "            model_offset,\n",
    "            note_priority_map,\n",
    "            list_o_notes,\n",
    "            norm_volumes,\n",
    "            image_array,\n",
    "            height,\n",
    "            width,\n",
    "            model_dim,\n",
    "            seed_value = initial_seed_value\n",
    "    )"
   ],
   "id": "acb25d7ae1c234e0",
   "outputs": [],
   "execution_count": 17
  },
  {
   "metadata": {},
   "cell_type": "markdown",
   "source": [
    "#  Create Galaxy Images and Mosaic\n",
    "The galaxy images are created and placed on the mosaic. The galaxy images are faded in over\n",
    "`fade_frames` number of frames. The final mosaics are saved as jpg images in the `MOSAIC_DIR` \n",
    "directory of `TMP_DIR`. A final version of the entire mosaic can be found in the `OUT_DIR`."
   ],
   "id": "433adf3c9741d247"
  },
  {
   "cell_type": "code",
   "id": "2f38dd1dcf616953",
   "metadata": {
    "ExecuteTime": {
     "end_time": "2024-12-06T23:23:29.190773Z",
     "start_time": "2024-12-06T23:23:12.581709Z"
    }
   },
   "source": [
    "# ============================== CREATE GALAXY IMAGES AND MOSAIC ===================================\n",
    "if __name__ == \"__main__\":\n",
    "    # Parallelize output of plots\n",
    "    _parallel_plot_wrapper(all_images, fade_frames)\n",
    "    \n",
    "    full_image_array = sum_arrays_in_list(all_images)\n",
    "    \n",
    "    almost_final_image_count = fade_frames*len(all_images)\n",
    "    # One last plot\n",
    "    add_galaxy_to_mosaic(\n",
    "            1,\n",
    "            [full_image_array],\n",
    "            100000,\n",
    "            save            = True, \n",
    "            filename        = pj(MOSAIC_DIR, f\"mosaic_{almost_final_image_count}.jpg\"),\n",
    "            # save_alpha    = (j / fade_frames)*alpha_image_array,\n",
    "            secondary_image = full_image_array\n",
    "    )\n",
    "    final_filename = pj(MOSAIC_DIR, f\"mosaic_{almost_final_image_count}.jpg\")\n",
    "    # A final few frames are useful\n",
    "    for i in range(1, fade_frames // 2 + 1):\n",
    "        copy(final_filename, pj(MOSAIC_DIR, f\"mosaic_{almost_final_image_count + i}.jpg\"))\n",
    "\n",
    "    copy(final_filename, pj(OUT_DIR, f\"mosaic.jpg\"))"
   ],
   "outputs": [
    {
     "data": {
      "text/plain": [
       "<Figure size 640x480 with 0 Axes>"
      ]
     },
     "metadata": {},
     "output_type": "display_data"
    }
   ],
   "execution_count": 18
  },
  {
   "cell_type": "code",
   "id": "8713c88a81b018c3",
   "metadata": {
    "ExecuteTime": {
     "end_time": "2024-12-06T23:23:29.194804Z",
     "start_time": "2024-12-06T23:23:29.191990Z"
    }
   },
   "source": [
    "# #from visualization.generate_mosaic import generate_animation\n",
    "# # Create the galaxy mosaic animation\n",
    "# _ = generate_animation(\n",
    "#         all_images,\n",
    "#         time_step,\n",
    "#         filename = pj(MOSAIC_DIR, f\"mosaic.gif\")\n",
    "# )"
   ],
   "outputs": [],
   "execution_count": 19
  },
  {
   "metadata": {},
   "cell_type": "markdown",
   "source": [
    "# Generate the Mosaic Video\n",
    "Finally, we generate the mosaic video. This is done using ffmpeg to combine the static images\n",
    "together and to also add the music to the video. The video is ultimately saved in `OUT_DIR`."
   ],
   "id": "5f9f985e450b3664"
  },
  {
   "cell_type": "code",
   "id": "8445a731addb3a02",
   "metadata": {
    "ExecuteTime": {
     "end_time": "2024-12-06T23:23:30.265040Z",
     "start_time": "2024-12-06T23:23:29.196596Z"
    }
   },
   "source": [
    "# ============================== GENERATE MOSAIC VIDEO =============================================\n",
    "if __name__ == \"__main__\":\n",
    "    # Using imagemagick to generate a gif with all frames\n",
    "    #process = sp(f\"convert -delay 50 -loop 0 {string_o_imgs} {pj(MOSAIC_DIR, 'IM_mosaic.gif')}\")\n",
    "    \n",
    "    # Using ffmpeg\n",
    "    output_video = pj(OUT_DIR, \"mosaic.mp4\")\n",
    "    \n",
    "    if exists(output_video):\n",
    "        output_video.unlink()\n",
    "    \n",
    "    mosaic_image_prefix = pj(MOSAIC_DIR, \"mosaic\")\n",
    "    \n",
    "    # ffmpeg works best with jpg\n",
    "    process = sp(f\"ffmpeg -framerate {fade_frames // time_step} -i {mosaic_image_prefix}_%d.jpg -i {music_filename} -vcodec libx264 {output_video}\")"
   ],
   "outputs": [],
   "execution_count": 20
  },
  {
   "metadata": {},
   "cell_type": "markdown",
   "source": [
    "# Play the Video (if possible)\n",
    "Finally, we play the video if the IDE supports it."
   ],
   "id": "6abfd829ee61a2e8"
  },
  {
   "metadata": {
    "ExecuteTime": {
     "end_time": "2024-12-06T23:23:30.269338Z",
     "start_time": "2024-12-06T23:23:30.266241Z"
    }
   },
   "cell_type": "code",
   "source": [
    "if __name__ == \"__main__\":\n",
    "    # Play the video if compatible with the IDE\n",
    "    Video(output_video)"
   ],
   "id": "532eb9d90c2f9a76",
   "outputs": [],
   "execution_count": 21
  },
  {
   "metadata": {},
   "cell_type": "markdown",
   "source": [
    "# Clean Up\n",
    "If desired, the entire `TMP_DIR` can be removed. This will remove all the temporary files\n",
    "generated by GALFIT and the images used to create the video."
   ],
   "id": "afe6ede25facc739"
  },
  {
   "metadata": {},
   "cell_type": "code",
   "source": [
    "if __name__ == \"__main__\":\n",
    "    # Clean up\n",
    "    clean_up = False\n",
    "    if clean_up:\n",
    "        # Remove the temporary directory\n",
    "        TMP_DIR.rmdir()"
   ],
   "id": "37e74881e96bc8bd",
   "outputs": [],
   "execution_count": null
  }
 ],
 "metadata": {
  "kernelspec": {
   "display_name": "Python 3 (ipykernel)",
   "language": "python",
   "name": "python3"
  },
  "language_info": {
   "codemirror_mode": {
    "name": "ipython",
    "version": 3
   },
   "file_extension": ".py",
   "mimetype": "text/x-python",
   "name": "python",
   "nbconvert_exporter": "python",
   "pygments_lexer": "ipython3",
   "version": "3.12.7"
  }
 },
 "nbformat": 4,
 "nbformat_minor": 5
}
