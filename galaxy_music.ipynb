{
 "cells": [
  {
   "cell_type": "code",
   "id": "7d35682d",
   "metadata": {
    "ExecuteTime": {
     "end_time": "2024-12-04T04:13:25.353756Z",
     "start_time": "2024-12-04T04:13:25.348437Z"
    }
   },
   "source": [
    "import sys\n",
    "from pathlib import Path\n",
    "from copy import deepcopy\n",
    "# from os.path import exists\n",
    "\n",
    "# Add the path to the sys.path list\n",
    "sys.path.append(Path(Path.cwd(), \"..\", \"galfitlib\").as_posix())"
   ],
   "outputs": [],
   "execution_count": 1
  },
  {
   "metadata": {
    "ExecuteTime": {
     "end_time": "2024-12-04T04:13:26.013366Z",
     "start_time": "2024-12-04T04:13:25.360776Z"
    }
   },
   "cell_type": "code",
   "source": [
    "#from galfitlib.classes.components import *\n",
    "from galfitlib.classes.containers import *\n",
    "from galfitlib.functions.helper_functions import *\n",
    "from galfitlib.pipeline.s2g_feedme_gen import *"
   ],
   "id": "6caa161b3e9397ec",
   "outputs": [],
   "execution_count": 2
  },
  {
   "cell_type": "code",
   "id": "4c45b96f",
   "metadata": {
    "ExecuteTime": {
     "end_time": "2024-12-04T04:13:26.461487Z",
     "start_time": "2024-12-04T04:13:26.014831Z"
    }
   },
   "source": [
    "from astropy.io import fits\n",
    "from astropy.utils.data import get_pkg_data_filename\n",
    "from scipy import fft\n",
    "import numpy as np\n",
    "import matplotlib.pyplot as plt"
   ],
   "outputs": [],
   "execution_count": 3
  },
  {
   "cell_type": "code",
   "id": "47a63821",
   "metadata": {
    "ExecuteTime": {
     "end_time": "2024-12-04T04:13:26.509861Z",
     "start_time": "2024-12-04T04:13:26.462500Z"
    }
   },
   "source": [
    "#Imports\n",
    "import ipywidgets as widgets\n",
    "from IPython.display import display\n",
    "from IPython.display import Audio"
   ],
   "outputs": [],
   "execution_count": 4
  },
  {
   "cell_type": "code",
   "id": "38524e7e",
   "metadata": {
    "ExecuteTime": {
     "end_time": "2024-12-04T04:13:26.538828Z",
     "start_time": "2024-12-04T04:13:26.511748Z"
    }
   },
   "source": "import sounddevice as sd",
   "outputs": [],
   "execution_count": 5
  },
  {
   "metadata": {
    "ExecuteTime": {
     "end_time": "2024-12-04T04:13:26.546446Z",
     "start_time": "2024-12-04T04:13:26.540211Z"
    }
   },
   "cell_type": "code",
   "source": [
    "# # From the twelve-tone tuning system\n",
    "notes = [\n",
    "    ['C0', 16.35],\n",
    "    ['C#0/Db0', 17.32],\n",
    "    ['D0', 18.35],\n",
    "    ['D#0/Eb0', 19.45],\n",
    "    ['E0', 20.60],\n",
    "    ['F0', 21.83],\n",
    "    ['F#0/Gb0', 23.12],\n",
    "    ['G0', 24.50],\n",
    "    ['G#0/Ab0', 25.96],\n",
    "    ['A0', 27.50],\n",
    "    ['A#0/Bb0', 29.14],\n",
    "    ['B0', 30.87],\n",
    "    ['C1', 32.70],\n",
    "    ['C#1/Db1', 34.65],\n",
    "    ['D1', 36.71],\n",
    "    ['D#1/Eb1', 38.89],\n",
    "    ['E1', 41.20],\n",
    "    ['F1', 43.65],\n",
    "    ['F#1/Gb1', 46.25],\n",
    "    ['G1', 49.00],\n",
    "    ['G#1/Ab1', 51.91],\n",
    "    ['A1', 55.00],\n",
    "    ['A#1/Bb1', 58.27],\n",
    "    ['B1', 61.74],\n",
    "    ['C2', 65.41],\n",
    "    ['C#2/Db2', 69.30],\n",
    "    ['D2', 73.42],\n",
    "    ['D#2/Eb2', 77.78],\n",
    "    ['E2', 82.41],\n",
    "    ['F2', 87.31],\n",
    "    ['F#2/Gb2', 92.50],\n",
    "    ['G2', 98.00],\n",
    "    ['G#2/Ab2', 103.83],\n",
    "    ['A2', 110.00],\n",
    "    ['A#2/Bb2', 116.54],\n",
    "    ['B2', 123.47],\n",
    "    ['C3', 130.81],\n",
    "    ['C#3/Db3', 138.59],\n",
    "    ['D3', 146.83],\n",
    "    ['D#3/Eb3', 155.56],\n",
    "    ['E3', 164.81],\n",
    "    ['F3', 174.61],\n",
    "    ['F#3/Gb3', 185.00],\n",
    "    ['G3', 196.00],\n",
    "    ['G#3/Ab3', 207.65],\n",
    "    ['A3', 220.00],\n",
    "    ['A#3/Bb3', 233.08],\n",
    "    ['B3', 246.94],\n",
    "    ['C4', 261.63],\n",
    "    ['C#4/Db4', 277.18],\n",
    "    ['D4', 293.66],\n",
    "    ['D#4/Eb4', 311.13],\n",
    "    ['E4', 329.63],\n",
    "    ['F4', 349.23],\n",
    "    ['F#4/Gb4', 369.99],\n",
    "    ['G4', 392.00],\n",
    "    ['G#4/Ab4', 415.30],\n",
    "    ['A4', 440.00],\n",
    "    ['A#4/Bb4', 466.16],\n",
    "    ['B4', 493.88],\n",
    "    ['C5', 523.25],\n",
    "    ['C#5/Db5', 554.37],\n",
    "    ['D5', 587.33],\n",
    "    ['D#5/Eb5', 622.25],\n",
    "    ['E5', 659.25],\n",
    "    ['F5', 698.46],\n",
    "    ['F#5/Gb5', 739.99],\n",
    "    ['G5', 783.99],\n",
    "    ['G#5/Ab5', 830.61],\n",
    "    ['A5', 880.00],\n",
    "    ['A#5/Bb5', 932.33],\n",
    "    ['B5', 987.77],\n",
    "    ['C6', 1046.50],\n",
    "    ['C#6/Db6', 1108.73],\n",
    "    ['D6', 1174.66],\n",
    "    ['D#6/Eb6', 1244.51\t],\n",
    "    ['E6', 1318.51],\n",
    "    ['F6', 1396.91],\n",
    "    ['F#6/Gb6', 1479.98],\n",
    "    ['G6', 1567.98],\n",
    "    ['G#6/Ab6', 1661.22],\n",
    "    ['A6', 1760.00\t],\n",
    "    ['A#6/Bb6', 1864.66],\n",
    "    ['B6', 1975.53\t],\n",
    "    ['C7', 2093.00],\n",
    "    ['C#7/Db7', 2217.46],\n",
    "    ['D7', 2349.32],\n",
    "    ['D#7/Eb7', 2489.02],\n",
    "    ['E7', 2637.02],\n",
    "    ['F7', 2793.83],\n",
    "    ['F#7/Gb7 ', 2959.96],\n",
    "    ['G7', 3135.96],\n",
    "    ['G#7/Ab7', 3322.44],\n",
    "    ['A7', 3520.00],\n",
    "    ['A#7/Bb7', 3729.31],\n",
    "    ['B7', 3951.07],\n",
    "    ['C8', 4186.01],\n",
    "    ['C#8/Db8', 4434.92],\n",
    "    ['D8', 4698.63],\n",
    "    ['D#8/Eb8', 4978.03],\n",
    "    ['E8', 5274.04],\n",
    "    ['F8', 5587.65],\n",
    "    ['F#8/Gb8', 5919.91],\n",
    "    ['G8', 6271.93],\n",
    "    ['G#8/Ab8', 6644.88\t],\n",
    "    ['A8', 7040.00],\n",
    "    ['A#8/Bb8', 7458.62],\n",
    "    ['B8', 7902.13],\n",
    "]"
   ],
   "id": "f1c87b0de6939bf1",
   "outputs": [],
   "execution_count": 6
  },
  {
   "metadata": {
    "ExecuteTime": {
     "end_time": "2024-12-04T04:13:26.558479Z",
     "start_time": "2024-12-04T04:13:26.547450Z"
    }
   },
   "cell_type": "code",
   "source": [
    "note_dict_ranges = {}\n",
    "previous_tone_number = \"0\"\n",
    "previous_name        = None\n",
    "for name, freq in notes:\n",
    "    name = name.replace(\"#\", \"\").replace(\"b\", \"\").strip()\n",
    "    \n",
    "    current_tone_number = name[-1]\n",
    "    \n",
    "    # There are gaps when jumping to different numbers\n",
    "    if current_tone_number != previous_tone_number:\n",
    "        note_dict_ranges[previous_name].append(freq)\n",
    "        \n",
    "    note_letter_1 = name\n",
    "    note_letter_2 = None\n",
    "    \n",
    "    if \"/\" in name:\n",
    "        note_letter_1, note_letter_2 = name.split(\"/\")\n",
    "        #note_letter_1 = note_letter_1[0]\n",
    "        #note_letter_2 = note_letter_2[0]\n",
    "        \n",
    "        note_dict_ranges[note_letter_1].append(freq)\n",
    "        note_dict_ranges[note_letter_2] = [freq]\n",
    "        \n",
    "    else:\n",
    "        if note_letter_1 not in note_dict_ranges:\n",
    "            note_dict_ranges[note_letter_1] = [freq]\n",
    "        else:\n",
    "            note_dict_ranges[note_letter_1].append(freq)\n",
    "            \n",
    "    previous_tone_number = current_tone_number\n",
    "    previous_name        = name"
   ],
   "id": "f99a90421e4c3583",
   "outputs": [],
   "execution_count": 7
  },
  {
   "metadata": {
    "ExecuteTime": {
     "end_time": "2024-12-04T04:13:26.570442Z",
     "start_time": "2024-12-04T04:13:26.559652Z"
    }
   },
   "cell_type": "code",
   "source": "note_dict_ranges",
   "id": "9883f53cb6191e52",
   "outputs": [
    {
     "data": {
      "text/plain": [
       "{'C0': [16.35, 17.32],\n",
       " 'D0': [17.32, 18.35, 19.45],\n",
       " 'E0': [19.45, 20.6],\n",
       " 'F0': [21.83, 23.12],\n",
       " 'G0': [23.12, 24.5, 25.96],\n",
       " 'A0': [25.96, 27.5, 29.14],\n",
       " 'B0': [29.14, 30.87, 32.7],\n",
       " 'C1': [32.7, 34.65],\n",
       " 'D1': [34.65, 36.71, 38.89],\n",
       " 'E1': [38.89, 41.2],\n",
       " 'F1': [43.65, 46.25],\n",
       " 'G1': [46.25, 49.0, 51.91],\n",
       " 'A1': [51.91, 55.0, 58.27],\n",
       " 'B1': [58.27, 61.74, 65.41],\n",
       " 'C2': [65.41, 69.3],\n",
       " 'D2': [69.3, 73.42, 77.78],\n",
       " 'E2': [77.78, 82.41],\n",
       " 'F2': [87.31, 92.5],\n",
       " 'G2': [92.5, 98.0, 103.83],\n",
       " 'A2': [103.83, 110.0, 116.54],\n",
       " 'B2': [116.54, 123.47, 130.81],\n",
       " 'C3': [130.81, 138.59],\n",
       " 'D3': [138.59, 146.83, 155.56],\n",
       " 'E3': [155.56, 164.81],\n",
       " 'F3': [174.61, 185.0],\n",
       " 'G3': [185.0, 196.0, 207.65],\n",
       " 'A3': [207.65, 220.0, 233.08],\n",
       " 'B3': [233.08, 246.94, 261.63],\n",
       " 'C4': [261.63, 277.18],\n",
       " 'D4': [277.18, 293.66, 311.13],\n",
       " 'E4': [311.13, 329.63],\n",
       " 'F4': [349.23, 369.99],\n",
       " 'G4': [369.99, 392.0, 415.3],\n",
       " 'A4': [415.3, 440.0, 466.16],\n",
       " 'B4': [466.16, 493.88, 523.25],\n",
       " 'C5': [523.25, 554.37],\n",
       " 'D5': [554.37, 587.33, 622.25],\n",
       " 'E5': [622.25, 659.25],\n",
       " 'F5': [698.46, 739.99],\n",
       " 'G5': [739.99, 783.99, 830.61],\n",
       " 'A5': [830.61, 880.0, 932.33],\n",
       " 'B5': [932.33, 987.77, 1046.5],\n",
       " 'C6': [1046.5, 1108.73],\n",
       " 'D6': [1108.73, 1174.66, 1244.51],\n",
       " 'E6': [1244.51, 1318.51],\n",
       " 'F6': [1396.91, 1479.98],\n",
       " 'G6': [1479.98, 1567.98, 1661.22],\n",
       " 'A6': [1661.22, 1760.0, 1864.66],\n",
       " 'B6': [1864.66, 1975.53, 2093.0],\n",
       " 'C7': [2093.0, 2217.46],\n",
       " 'D7': [2217.46, 2349.32, 2489.02],\n",
       " 'E7': [2489.02, 2637.02],\n",
       " 'F7': [2793.83, 2959.96],\n",
       " 'G7': [2959.96, 3135.96, 3322.44],\n",
       " 'A7': [3322.44, 3520.0, 3729.31],\n",
       " 'B7': [3729.31, 3951.07, 4186.01],\n",
       " 'C8': [4186.01, 4434.92],\n",
       " 'D8': [4434.92, 4698.63, 4978.03],\n",
       " 'E8': [4978.03, 5274.04],\n",
       " 'F8': [5587.65, 5919.91],\n",
       " 'G8': [5919.91, 6271.93, 6644.88],\n",
       " 'A8': [6644.88, 7040.0, 7458.62],\n",
       " 'B8': [7458.62, 7902.13]}"
      ]
     },
     "execution_count": 8,
     "metadata": {},
     "output_type": "execute_result"
    }
   ],
   "execution_count": 8
  },
  {
   "metadata": {
    "ExecuteTime": {
     "end_time": "2024-12-04T04:13:26.582076Z",
     "start_time": "2024-12-04T04:13:26.571499Z"
    }
   },
   "cell_type": "code",
   "source": [
    "#note_dict_rangesa\n",
    "ranges_for_search = [                                                    \n",
    "    {\n",
    "        \"start\" : freqs[0],                      \n",
    "        \"end\"   : freqs[-1],                           \n",
    "        \"value\" : note\n",
    "    }                        \n",
    "    for note, freqs in note_dict_ranges.items()\n",
    "]\n",
    "ranges_for_search"
   ],
   "id": "eea10b0f1a3b169a",
   "outputs": [
    {
     "data": {
      "text/plain": [
       "[{'start': 16.35, 'end': 17.32, 'value': 'C0'},\n",
       " {'start': 17.32, 'end': 19.45, 'value': 'D0'},\n",
       " {'start': 19.45, 'end': 20.6, 'value': 'E0'},\n",
       " {'start': 21.83, 'end': 23.12, 'value': 'F0'},\n",
       " {'start': 23.12, 'end': 25.96, 'value': 'G0'},\n",
       " {'start': 25.96, 'end': 29.14, 'value': 'A0'},\n",
       " {'start': 29.14, 'end': 32.7, 'value': 'B0'},\n",
       " {'start': 32.7, 'end': 34.65, 'value': 'C1'},\n",
       " {'start': 34.65, 'end': 38.89, 'value': 'D1'},\n",
       " {'start': 38.89, 'end': 41.2, 'value': 'E1'},\n",
       " {'start': 43.65, 'end': 46.25, 'value': 'F1'},\n",
       " {'start': 46.25, 'end': 51.91, 'value': 'G1'},\n",
       " {'start': 51.91, 'end': 58.27, 'value': 'A1'},\n",
       " {'start': 58.27, 'end': 65.41, 'value': 'B1'},\n",
       " {'start': 65.41, 'end': 69.3, 'value': 'C2'},\n",
       " {'start': 69.3, 'end': 77.78, 'value': 'D2'},\n",
       " {'start': 77.78, 'end': 82.41, 'value': 'E2'},\n",
       " {'start': 87.31, 'end': 92.5, 'value': 'F2'},\n",
       " {'start': 92.5, 'end': 103.83, 'value': 'G2'},\n",
       " {'start': 103.83, 'end': 116.54, 'value': 'A2'},\n",
       " {'start': 116.54, 'end': 130.81, 'value': 'B2'},\n",
       " {'start': 130.81, 'end': 138.59, 'value': 'C3'},\n",
       " {'start': 138.59, 'end': 155.56, 'value': 'D3'},\n",
       " {'start': 155.56, 'end': 164.81, 'value': 'E3'},\n",
       " {'start': 174.61, 'end': 185.0, 'value': 'F3'},\n",
       " {'start': 185.0, 'end': 207.65, 'value': 'G3'},\n",
       " {'start': 207.65, 'end': 233.08, 'value': 'A3'},\n",
       " {'start': 233.08, 'end': 261.63, 'value': 'B3'},\n",
       " {'start': 261.63, 'end': 277.18, 'value': 'C4'},\n",
       " {'start': 277.18, 'end': 311.13, 'value': 'D4'},\n",
       " {'start': 311.13, 'end': 329.63, 'value': 'E4'},\n",
       " {'start': 349.23, 'end': 369.99, 'value': 'F4'},\n",
       " {'start': 369.99, 'end': 415.3, 'value': 'G4'},\n",
       " {'start': 415.3, 'end': 466.16, 'value': 'A4'},\n",
       " {'start': 466.16, 'end': 523.25, 'value': 'B4'},\n",
       " {'start': 523.25, 'end': 554.37, 'value': 'C5'},\n",
       " {'start': 554.37, 'end': 622.25, 'value': 'D5'},\n",
       " {'start': 622.25, 'end': 659.25, 'value': 'E5'},\n",
       " {'start': 698.46, 'end': 739.99, 'value': 'F5'},\n",
       " {'start': 739.99, 'end': 830.61, 'value': 'G5'},\n",
       " {'start': 830.61, 'end': 932.33, 'value': 'A5'},\n",
       " {'start': 932.33, 'end': 1046.5, 'value': 'B5'},\n",
       " {'start': 1046.5, 'end': 1108.73, 'value': 'C6'},\n",
       " {'start': 1108.73, 'end': 1244.51, 'value': 'D6'},\n",
       " {'start': 1244.51, 'end': 1318.51, 'value': 'E6'},\n",
       " {'start': 1396.91, 'end': 1479.98, 'value': 'F6'},\n",
       " {'start': 1479.98, 'end': 1661.22, 'value': 'G6'},\n",
       " {'start': 1661.22, 'end': 1864.66, 'value': 'A6'},\n",
       " {'start': 1864.66, 'end': 2093.0, 'value': 'B6'},\n",
       " {'start': 2093.0, 'end': 2217.46, 'value': 'C7'},\n",
       " {'start': 2217.46, 'end': 2489.02, 'value': 'D7'},\n",
       " {'start': 2489.02, 'end': 2637.02, 'value': 'E7'},\n",
       " {'start': 2793.83, 'end': 2959.96, 'value': 'F7'},\n",
       " {'start': 2959.96, 'end': 3322.44, 'value': 'G7'},\n",
       " {'start': 3322.44, 'end': 3729.31, 'value': 'A7'},\n",
       " {'start': 3729.31, 'end': 4186.01, 'value': 'B7'},\n",
       " {'start': 4186.01, 'end': 4434.92, 'value': 'C8'},\n",
       " {'start': 4434.92, 'end': 4978.03, 'value': 'D8'},\n",
       " {'start': 4978.03, 'end': 5274.04, 'value': 'E8'},\n",
       " {'start': 5587.65, 'end': 5919.91, 'value': 'F8'},\n",
       " {'start': 5919.91, 'end': 6644.88, 'value': 'G8'},\n",
       " {'start': 6644.88, 'end': 7458.62, 'value': 'A8'},\n",
       " {'start': 7458.62, 'end': 7902.13, 'value': 'B8'}]"
      ]
     },
     "execution_count": 9,
     "metadata": {},
     "output_type": "execute_result"
    }
   ],
   "execution_count": 9
  },
  {
   "metadata": {
    "ExecuteTime": {
     "end_time": "2024-12-04T04:22:18.071689Z",
     "start_time": "2024-12-04T04:22:18.067158Z"
    }
   },
   "cell_type": "code",
   "source": [
    "def binary_search_ranges(ranges, values : list) -> list:\n",
    "    \"\"\"\n",
    "    Wrapper for binary search on a list of values in a list of ranges\n",
    "    \"\"\"\n",
    "    def binary_search(ranges, value):\n",
    "        \"\"\"\n",
    "        Binary search for a value in a list of ranges\n",
    "        Thanks to https://stackoverflow.com/a/65518827 for the code\n",
    "        \"\"\"\n",
    "    \n",
    "        if len(ranges) == 1:\n",
    "            if ranges[0][\"start\"] <= value <= ranges[0][\"end\"]:\n",
    "                pass\n",
    "            else:\n",
    "                print(f\"Value ({value:.2f}) not found in *any* range.\")\n",
    "                print(f\"Choosing note: {ranges[0]['value']}\")\n",
    "            return ranges[0][\"value\"]\n",
    "    \n",
    "        mid = len(ranges) // 2\n",
    "        if ranges[mid][\"end\"] < value:\n",
    "            return binary_search(ranges[mid:], value)\n",
    "        elif ranges[mid][\"start\"] > value:\n",
    "            return binary_search(ranges[:mid], value)\n",
    "        else:\n",
    "            return ranges[mid][\"value\"]\n",
    "        \n",
    "    return [binary_search(ranges_for_search, value) for value in values]\n",
    "    #yield binary_search(ranges_for_search, value)"
   ],
   "id": "186736acbc646f71",
   "outputs": [],
   "execution_count": 27
  },
  {
   "cell_type": "code",
   "id": "dce2b1b1",
   "metadata": {
    "ExecuteTime": {
     "end_time": "2024-12-04T04:13:26.602717Z",
     "start_time": "2024-12-04T04:13:26.592292Z"
    }
   },
   "source": [
    "def music_to_galaxy_properties(\n",
    "        bulge_object   : Sersic,\n",
    "        disk_object    : Sersic,\n",
    "        arms_object    : Power,\n",
    "        # fourier_object : Fourier,\n",
    "        dict_music     : dict\n",
    "):\n",
    "    \"\"\"\n",
    "    BULGE\n",
    "    G4 – ‘Magnitude’ [10,16] -> Linearly [0,1] | Set: 15 | Direction: Longer -> Lower Value\n",
    "    C5 – ‘Effective Radius’ [0, 75] | Set: 3 | Direction: Longer -> Higher Value\n",
    "    E4 – ‘Sersic Index’ [0.1, 10] (log scaling) | Set: 1.0 | Direction: Longer -> Higher Value\n",
    "    G5 – ‘Axis Ratio’ [0.5, 1] | Set: 1.0 | Direction: Longer -> Lower Value\n",
    "    D4 – ‘Position Angle’ [0.5, 1] | Set: 1.0 | Direction: Longer -> Lower Value\n",
    "    \n",
    "    DISK\n",
    "    G4  – ‘Magnitude’ [10, 16] -> Linearly [0, 1] | Set: 15 | Direction: Longer -> Lower Value\n",
    "    RMS – ‘Eff_Rad’ [0, 75] | Set: 20 | Direction: Longer -> Higher Value\n",
    "    D5  – ‘Sersic_Index’ [0.1, 10] (log scaling) | Set: 1.0 | Direction: Longer -> Higher Value\n",
    "    G4  – ‘Pos_Angle’ [0, 180] -> [0,1] Sin(theta/2) | Set: 0 | Direction: Longer -> Higher Value\n",
    "    B4  – ‘Axis_Ratio’ [0.5, 1] | Set: 1.0 | Direction: Longer -> Lower Value\n",
    "    \n",
    "    Arms\n",
    "    Let position angle be handled by disk\n",
    "    volume - spiral outer radius\n",
    "    B4 - # of fourier modes\n",
    "    C5 - cumulative rotation\n",
    "    E5 - spiral power law\n",
    "    D4 - spiral inner radius\n",
    "    A4 - strength of fourier modes\n",
    "    E4 - inclination\n",
    "    \"\"\"\n",
    "        \n",
    "    def normalize(val, val_min=1.0, val_max=5.0):\n",
    "        \"\"\"\n",
    "        Normalizes input to [0.5,1]\n",
    "        \"\"\"\n",
    "        norm = np.abs((val - val_min)/(val_max - val_min))\n",
    "        return norm\n",
    "\n",
    "    # The sersic_object is mutable, so we can directly update its properties\n",
    "    # BULGE\n",
    "    bulge_object.magnitude.value        = (16 - 10) * (1.0 - normalize(dict_music['G4'])) + 3.\n",
    "    bulge_object.effective_radius.value = (75 - 0.0)*normalize(dict_music['C5']) + 10\n",
    "    bulge_object.sersic_index.value     = (10.0 - 0.1)*normalize(dict_music['E4']) + 0.5\n",
    "    bulge_object.axis_ratio.value       = (1 - 0.5)*normalize(dict_music['G5']) + 0.5\n",
    "    bulge_object.position_angle.value   = 2 * np.arcsin(normalize(dict_music['D4'])) * 180.0/np.pi\n",
    "    \n",
    "    # DISK\n",
    "    disk_object.magnitude.value        = (16 - 10) * (1.0 - normalize(dict_music['G4'])) + 3.\n",
    "    disk_object.effective_radius.value = (75 - 0.0)*normalize(dict_music['RMS']) + 10\n",
    "    disk_object.sersic_index.value     = (10.0 - 0.1)*normalize(dict_music['D5']) + 0.5\n",
    "    disk_object.axis_ratio.value       = (1 - 0.5)*normalize(dict_music['G4']) + 0.5\n",
    "    disk_object.position_angle.value   = 2 * np.arcsin(normalize(dict_music['B4'])) * 180.0/np.pi\n",
    "        \n",
    "    # ARMS\n",
    "    arms_object.outer_radius.value = (75 - 0)*normalize(dict_music['RMS'])# + 10\n",
    "    arms_object.cumulative_rotation.value = (360 - 0)*normalize(dict_music['C5'])# + 10\n",
    "    arms_object.power_law.value = (3 - -1)*normalize(dict_music['E5'])# + 10\n",
    "    arms_object.inner_radius.value = (20 - 0)*normalize(dict_music['D4'])# + 10 \n",
    "    arms_object.inclination.value = (45 - 0)*normalize(dict_music['E4'])# + 10\n",
    "    \n",
    "    # FOURIER\n",
    "    num_fourier_modes = (5 - 1)*normalize(dict_music['B4'])\n",
    "    fourier_object = Fourier(num_fourier_modes)\n",
    "    fourier_object.amplitude.value = (0.05 - 0.001)*normalize(dict_music['A4'])# + 10\n",
    "    \n",
    "    return fourier_object"
   ],
   "outputs": [],
   "execution_count": 11
  },
  {
   "cell_type": "code",
   "id": "e138d656",
   "metadata": {
    "ExecuteTime": {
     "end_time": "2024-12-04T04:13:26.614181Z",
     "start_time": "2024-12-04T04:13:26.603746Z"
    }
   },
   "source": [
    "g_prefix = \"galaxy\"\n",
    "g_number = 0\n",
    "\n",
    "cwd = Path.cwd()\n",
    "\n",
    "IN_DIR  = pj(cwd, \"music-in\")\n",
    "TMP_DIR = pj(cwd, \"music-tmp\")\n",
    "OUT_DIR = pj(cwd, \"music-out\")\n",
    "\n",
    "previous = False"
   ],
   "outputs": [],
   "execution_count": 12
  },
  {
   "metadata": {
    "ExecuteTime": {
     "end_time": "2024-12-04T04:35:17.630518Z",
     "start_time": "2024-12-04T04:35:17.627504Z"
    }
   },
   "cell_type": "code",
   "source": [
    "def rms(data, width):\n",
    "    \"\"\"\n",
    "    audioop.rms() using numpy; since audioop will be deprecated\n",
    "    Thanks https://stackoverflow.com/q/9763471 !\n",
    "    \"\"\"\n",
    "    \n",
    "    if len(data) == 0: \n",
    "        return None\n",
    "    \n",
    "    from_type = (np.int8, np.int16, np.int32)[width//2]\n",
    "    d         = np.frombuffer(data, from_type).astype(float)\n",
    "    return int(np.sqrt(np.mean(d**2)))"
   ],
   "id": "6da85fe29a8a8859",
   "outputs": [],
   "execution_count": 40
  },
  {
   "metadata": {},
   "cell_type": "code",
   "outputs": [],
   "execution_count": 13,
   "source": [
    "# Function to update the array image when slider value changes\n",
    "def update_image_array(change):\n",
    "    # Update the image data based on the slider value\n",
    "    new_image_data_array = image_data_array * change.new\n",
    "\n",
    "    # Update the array image with new data\n",
    "    image_array.set_data(new_image_data_array)\n",
    "\n",
    "    # Redraw the figure\n",
    "    fig.canvas.draw()"
   ],
   "id": "49e3dccb"
  },
  {
   "metadata": {
    "ExecuteTime": {
     "end_time": "2024-12-04T04:34:55.192817Z",
     "start_time": "2024-12-04T04:34:54.439102Z"
    }
   },
   "cell_type": "code",
   "source": [
    "import librosa\n",
    "x, sr = librosa.load('brown_alma_mater.mp3')"
   ],
   "id": "a1047ef894f3ae6b",
   "outputs": [],
   "execution_count": 38
  },
  {
   "metadata": {
    "ExecuteTime": {
     "end_time": "2024-12-04T04:13:28.682509Z",
     "start_time": "2024-12-04T04:13:28.680166Z"
    }
   },
   "cell_type": "code",
   "source": [
    "# import pygame\n",
    "# \n",
    "# def play_audio(file_path):\n",
    "#     # Initialize Pygame mixer\n",
    "#     pygame.mixer.init()\n",
    "# \n",
    "#     # Load the audio file\n",
    "#     pygame.mixer.music.load(file_path)\n",
    "# \n",
    "#     # Play the audio file\n",
    "#     pygame.mixer.music.play()\n",
    "# \n",
    "#     # Keep the script running while the audio is playing\n",
    "#     while pygame.mixer.music.get_busy():\n",
    "#         pygame.time.Clock().tick(10)\n",
    "# \n",
    "# \n",
    "# audio_file = \"brown_alma_mater.mp3\"\n",
    "# play_audio(audio_file)"
   ],
   "id": "b94d05894cb1892e",
   "outputs": [],
   "execution_count": 15
  },
  {
   "metadata": {
    "ExecuteTime": {
     "end_time": "2024-12-04T04:13:28.701549Z",
     "start_time": "2024-12-04T04:13:28.683425Z"
    }
   },
   "cell_type": "code",
   "source": "%matplotlib inline",
   "id": "25252b4eb459f7ee",
   "outputs": [],
   "execution_count": 16
  },
  {
   "cell_type": "code",
   "id": "b04c942b",
   "metadata": {
    "ExecuteTime": {
     "end_time": "2024-12-04T04:22:40.327472Z",
     "start_time": "2024-12-04T04:22:39.482067Z"
    }
   },
   "source": [
    "count = 0\n",
    "g_number = 0\n",
    "while g_number == 0:\n",
    "    plt.clf()\n",
    "    gname = f\"{g_prefix}_{g_number}\"\n",
    "    filename = f\"{pj(IN_DIR, gname)}.fits\"\n",
    "    #template = pj(_MODULE_DIR, \"template.fits\")\n",
    "    #sp(f\"cp {template} {filename}\")\n",
    "    #gen_template(filename)\n",
    "    \n",
    "    # Ideas: \n",
    "    # Coordinate notes with features of galaxies\n",
    "    # Normalize range of frequencies and modify galaxy property according to position in range\n",
    "    # dict_music = {\n",
    "    #     'D5': 3.0,\n",
    "    #     'G4': 0.5,\n",
    "    #     'B4': 1.0,\n",
    "    #     'G': 0.5,\n",
    "    #     'D': 0.0,\n",
    "    #     'M': 1,\n",
    "    #     'm': 0\n",
    "    # }\n",
    "    # TODO: Dynamically determine frequent notes (pre-loop the song by chunks)\n",
    "    # and map to galaxy properties\n",
    "    # aka create an agnostic mapping simply based on frequency\n",
    "    frequent_notes = ['D5', 'G4', 'B4', 'C5', 'E5', 'D4', 'E4', 'G5', 'A4', 'C4']\n",
    "\n",
    "    if not exists(pj(OUT_DIR, gname)):\n",
    "        pj(OUT_DIR, gname).mkdir()\n",
    "\n",
    "    feedme = pj(OUT_DIR, gname, f\"{gname}.in\")\n",
    "    input_filename = pj(IN_DIR, f\"{gname}.fits\")\n",
    "    output_filename = pj(OUT_DIR, gname, f\"{gname}_out.fits\")\n",
    "    \n",
    "    x     = 10000\n",
    "    count = 0\n",
    "    filename = \"brown_alma_mater.mp3\"\n",
    "    list_o_notes = []\n",
    "    \n",
    "    while x != 0 and count < 1:\n",
    "        # x = int(input(\"Waiting...\"))\n",
    "        #sr = 48000\n",
    "        #duration = 6\n",
    "        signal, sr = librosa.load(filename)\n",
    "        t = np.arange(librosa.get_duration(path = filename), step = 1/sr)\n",
    "        #Nsamples = int(duration*sr)\n",
    "        # Cmaj = sd.rec(Nsamples, samplerate=sr, channels=1, blocking=True)[:,0]#dur5\n",
    "        \n",
    "         #np.arange(Nsamples)/sr\n",
    "        #extracting chord and duration\n",
    "        #ignore first 1 seconds\n",
    "        # blur(abs(signal)) to find peaks\n",
    "        # FT first peak to get chord\n",
    "        # output as string\n",
    "        # time between this and last peak, output this too\n",
    "\n",
    "        ignore = 0.5 # seconds\n",
    "        signal = signal[t > 0.5]\n",
    "        t      = t[t > 0.5]\n",
    "        \n",
    "        s = 0.01\n",
    "        t_step_size = 5 * sr\n",
    "        t_initial   = int(ignore * sr) + t_step_size\n",
    "        \n",
    "        for t_step in range(t_initial, len(t), t_step_size):\n",
    "            \n",
    "            #t_step = t[i_step] - t[i_step - i_step_size]\n",
    "            cutsignal = signal[t_step - t_step_size : t_step]\n",
    "            \n",
    "            blurProfile = (1/np.sqrt(2*np.pi*s**2))*np.exp(-0.5*(np.linspace(-3*s, 3*s, int(6*s*sr))/s)**2)\n",
    "    \n",
    "            signalBlurred = np.convolve(cutsignal**2, blurProfile, mode='same')\n",
    "    \n",
    "            chordrange = signalBlurred>100\n",
    "            if not np.any(chordrange):\n",
    "                continue\n",
    "    \n",
    "            FT    = fft.fft(cutsignal[chordrange])\n",
    "            freqs = fft.fftfreq(len(cutsignal[chordrange]), d=1/sr)\n",
    "    \n",
    "            FT    = FT[freqs >= 0]\n",
    "            freqs = freqs[freqs >= 0]\n",
    "            fmask = (freqs>10)&(freqs<2000)\n",
    "    \n",
    "            # noteBins = 220*(2**((np.arange(12*3)-0.5)/12)) # starting from A below middle\n",
    "            \n",
    "            # Very basic peak detection method\n",
    "            peaks      = freqs[np.argsort(FT)[-5:]]\n",
    "            peak_notes = binary_search_ranges(ranges_for_search, peaks)\n",
    "            list_o_notes.extend(peak_notes)\n",
    "            \n",
    "            volume = rms(cutsignal, 2)\n",
    "            \n",
    "            # plt.clf()\n",
    "            # fig,ax = plt.subplots()\n",
    "            # ax.plot(freqs[fmask], np.abs(FT[fmask])**2)\n",
    "            # plt.show()\n",
    "            \n",
    "            #break\n",
    "        \n",
    "        # bulge = Sersic(\n",
    "        #         component_number = 1,\n",
    "        #         position = (74, 74),\n",
    "        # )\n",
    "        # \n",
    "        # disk  = Sersic(\n",
    "        #         component_number = 2,\n",
    "        #         position = (74, 74),\n",
    "        # )\n",
    "        # \n",
    "        # arms  = Power(\n",
    "        #         component_number = 2,\n",
    "        #         position = (74, 74),\n",
    "        # )\n",
    "        # \n",
    "        # header = GalfitHeader(\n",
    "        #         galaxy_name = gname,\n",
    "        #         input_image = input_filename,\n",
    "        #         output_image = output_filename,\n",
    "        #         optimize = 1,\n",
    "        #         region_to_fit = (0,147,0,147)\n",
    "        # )\n",
    "        # \n",
    "        # galaxy_feedme = FeedmeContainer(\n",
    "        #         path_to_feedme = feedme, \n",
    "        #         header = header,\n",
    "        #         bulge  = bulge,\n",
    "        #         disk   = disk\n",
    "        # )\n",
    "        # \n",
    "        # galaxy_feedme.to_file()\n",
    "        # \n",
    "        # #print(galaxy_feedme)\n",
    "        # process = sp(f\"{RUN_GALFIT} {feedme}\")\n",
    "        # \n",
    "        # # Open the FITS file\n",
    "        # fits_file = fits.open(output_filename)\n",
    "        # \n",
    "        # # Extract the image data from the FITS file\n",
    "        # image_data_fits     = fits_file[0].data - galaxy_feedme.sky.sky_background.value\n",
    "        # new_image_data_fits = deepcopy(image_data_fits)\n",
    "        # \n",
    "        # #image_data_array = fits_file[1].data\n",
    "        # \n",
    "        # # Close the FITS file\n",
    "        # fits_file.close()\n",
    "        \n",
    "        # # Create a figure and subplots\n",
    "        # fig, ax1 = plt.subplots(1, 1, figsize=(10, 5))\n",
    "        # \n",
    "        # # Display the FITS image\n",
    "        # image_fits = ax1.imshow(np.log(1 + image_data_fits), cmap='gray')\n",
    "        # \n",
    "        # # Display the array image\n",
    "        # #image_array = ax2.imshow(image_data_array, cmap='gray')\n",
    "        # \n",
    "        # # Create a slider widget for the FITS image\n",
    "        # slider_fits = widgets.FloatSlider(value = 1.0, min = 0.0, max = 2.0, step=0.01, description='FITS Scale:', continuous_update=True)\n",
    "        # \n",
    "        # # Create a slider widget for the array image\n",
    "        # #slider_array = widgets.FloatSlider(value=1.0, min=0.1, max=2.0, step=0.1, description='Array Scale:', continuous_update=True)\n",
    "        # \n",
    "        # # Function to update the FITS image when slider value changes\n",
    "        # def update_image_fits(change):\n",
    "        #     # Update the image data based on the slider value\n",
    "        #     new_image_data_fits = change.new * np.log(1 + image_data_fits)\n",
    "        # \n",
    "        #     # Update the FITS image with new data\n",
    "        #     image_fits.set_data(new_image_data_fits)\n",
    "        # \n",
    "        #     # Redraw the figure\n",
    "        #     fig.canvas.draw()\n",
    "        # \n",
    "        # # Attach the update_image_fits function to the FITS slider's value change event\n",
    "        # slider_fits.observe(update_image_fits, 'value')\n",
    "        # \n",
    "        # # Attach the update_image_array function to the array slider's value change event\n",
    "        # #slider_array.observe(update_image_array, 'value')\n",
    "        # \n",
    "        # # Display the slider widgets\n",
    "        # display(widgets.HBox([slider_fits])) #, slider_array]))\n",
    "        # \n",
    "        # # Add any additional customization you need to the subplots\n",
    "        # ax1.set_title('FITS Image')\n",
    "        # ax1.set_xlabel('X-axis')\n",
    "        # ax1.set_ylabel('Y-axis')\n",
    "        # \n",
    "        # #ax2.set_title('Residual')\n",
    "        # #ax2.set_xlabel('X-axis')\n",
    "        # #ax2.set_ylabel('Y-axis')\n",
    "        # \n",
    "        # # Show the plot\n",
    "        # plt.show()\n",
    "            \n",
    "        # x = input()\n",
    "        count += 1\n",
    "        \n",
    "    g_number += 1"
   ],
   "outputs": [
    {
     "name": "stdout",
     "output_type": "stream",
     "text": [
      "Value (690.91) not found in *any* range.\n",
      "Choosing note: E5\n"
     ]
    },
    {
     "data": {
      "text/plain": [
       "<Figure size 640x480 with 0 Axes>"
      ]
     },
     "metadata": {},
     "output_type": "display_data"
    }
   ],
   "execution_count": 28
  },
  {
   "metadata": {
    "ExecuteTime": {
     "end_time": "2024-12-04T04:15:54.586833Z",
     "start_time": "2024-12-04T04:15:54.583693Z"
    }
   },
   "cell_type": "code",
   "source": "print(note_dict_ranges)",
   "id": "12af22974e477107",
   "outputs": [
    {
     "name": "stdout",
     "output_type": "stream",
     "text": [
      "{'C0': [16.35, 17.32], 'D0': [17.32, 18.35, 19.45], 'E0': [19.45, 20.6], 'F0': [21.83, 23.12], 'G0': [23.12, 24.5, 25.96], 'A0': [25.96, 27.5, 29.14], 'B0': [29.14, 30.87, 32.7], 'C1': [32.7, 34.65], 'D1': [34.65, 36.71, 38.89], 'E1': [38.89, 41.2], 'F1': [43.65, 46.25], 'G1': [46.25, 49.0, 51.91], 'A1': [51.91, 55.0, 58.27], 'B1': [58.27, 61.74, 65.41], 'C2': [65.41, 69.3], 'D2': [69.3, 73.42, 77.78], 'E2': [77.78, 82.41], 'F2': [87.31, 92.5], 'G2': [92.5, 98.0, 103.83], 'A2': [103.83, 110.0, 116.54], 'B2': [116.54, 123.47, 130.81], 'C3': [130.81, 138.59], 'D3': [138.59, 146.83, 155.56], 'E3': [155.56, 164.81], 'F3': [174.61, 185.0], 'G3': [185.0, 196.0, 207.65], 'A3': [207.65, 220.0, 233.08], 'B3': [233.08, 246.94, 261.63], 'C4': [261.63, 277.18], 'D4': [277.18, 293.66, 311.13], 'E4': [311.13, 329.63], 'F4': [349.23, 369.99], 'G4': [369.99, 392.0, 415.3], 'A4': [415.3, 440.0, 466.16], 'B4': [466.16, 493.88, 523.25], 'C5': [523.25, 554.37], 'D5': [554.37, 587.33, 622.25], 'E5': [622.25, 659.25], 'F5': [698.46, 739.99], 'G5': [739.99, 783.99, 830.61], 'A5': [830.61, 880.0, 932.33], 'B5': [932.33, 987.77, 1046.5], 'C6': [1046.5, 1108.73], 'D6': [1108.73, 1174.66, 1244.51], 'E6': [1244.51, 1318.51], 'F6': [1396.91, 1479.98], 'G6': [1479.98, 1567.98, 1661.22], 'A6': [1661.22, 1760.0, 1864.66], 'B6': [1864.66, 1975.53, 2093.0], 'C7': [2093.0, 2217.46], 'D7': [2217.46, 2349.32, 2489.02], 'E7': [2489.02, 2637.02], 'F7': [2793.83, 2959.96], 'G7': [2959.96, 3135.96, 3322.44], 'A7': [3322.44, 3520.0, 3729.31], 'B7': [3729.31, 3951.07, 4186.01], 'C8': [4186.01, 4434.92], 'D8': [4434.92, 4698.63, 4978.03], 'E8': [4978.03, 5274.04], 'F8': [5587.65, 5919.91], 'G8': [5919.91, 6271.93, 6644.88], 'A8': [6644.88, 7040.0, 7458.62], 'B8': [7458.62, 7902.13]}\n"
     ]
    }
   ],
   "execution_count": 22
  },
  {
   "metadata": {},
   "cell_type": "code",
   "source": [
    "# plt.clf()\n",
    "# fig,ax = plt.subplots()\n",
    "# ax.plot(freqs[mask], np.abs(FT[mask])**2)\n",
    "# plt.show()"
   ],
   "id": "3de2b0ea0ae20f83",
   "outputs": [],
   "execution_count": null
  },
  {
   "metadata": {
    "ExecuteTime": {
     "end_time": "2024-12-04T04:25:28.845147Z",
     "start_time": "2024-12-04T04:25:28.841250Z"
    }
   },
   "cell_type": "code",
   "source": [
    "#print(list_o_notes)\n",
    "from collections import Counter\n",
    "c = Counter(list_o_notes)\n",
    "print(c)"
   ],
   "id": "70e88156aa01ae59",
   "outputs": [
    {
     "name": "stdout",
     "output_type": "stream",
     "text": [
      "Counter({'D5': 20, 'G4': 9, 'B4': 7, 'C5': 6, 'E5': 6, 'D4': 4, 'E4': 3, 'G5': 2, 'A4': 2, 'C4': 1})\n"
     ]
    }
   ],
   "execution_count": 30
  }
 ],
 "metadata": {
  "kernelspec": {
   "display_name": "Python 3 (ipykernel)",
   "language": "python",
   "name": "python3"
  },
  "language_info": {
   "codemirror_mode": {
    "name": "ipython",
    "version": 3
   },
   "file_extension": ".py",
   "mimetype": "text/x-python",
   "name": "python",
   "nbconvert_exporter": "python",
   "pygments_lexer": "ipython3",
   "version": "3.9.13"
  }
 },
 "nbformat": 4,
 "nbformat_minor": 5
}
