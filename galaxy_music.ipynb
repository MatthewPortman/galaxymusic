{
 "cells": [
  {
   "cell_type": "code",
   "id": "7d35682d",
   "metadata": {
    "ExecuteTime": {
     "end_time": "2024-12-05T07:24:35.582943Z",
     "start_time": "2024-12-05T07:24:35.577650Z"
    }
   },
   "source": [
    "import sys\n",
    "from pathlib import Path\n",
    "from copy import deepcopy\n",
    "from collections import Counter\n",
    "from random import randint, seed\n",
    "import time\n",
    "# from os.path import exists\n",
    "\n",
    "# Add the path to the sys.path list\n",
    "sys.path.append(Path(Path.cwd(), \"..\", \"galfitlib\").as_posix())"
   ],
   "outputs": [],
   "execution_count": 84
  },
  {
   "metadata": {
    "ExecuteTime": {
     "end_time": "2024-12-05T06:04:53.060545Z",
     "start_time": "2024-12-05T06:04:52.444119Z"
    }
   },
   "cell_type": "code",
   "source": [
    "#from galfitlib.classes.components import *\n",
    "from galfitlib.classes.containers import *\n",
    "from galfitlib.functions.helper_functions import *\n",
    "from galfitlib.pipeline.s2g_feedme_gen import *"
   ],
   "id": "6caa161b3e9397ec",
   "outputs": [],
   "execution_count": 2
  },
  {
   "cell_type": "code",
   "id": "4c45b96f",
   "metadata": {
    "ExecuteTime": {
     "end_time": "2024-12-05T06:04:53.462028Z",
     "start_time": "2024-12-05T06:04:53.061847Z"
    }
   },
   "source": [
    "from astropy.io import fits\n",
    "from astropy.utils.data import get_pkg_data_filename\n",
    "from scipy import fft\n",
    "import numpy as np\n",
    "import matplotlib.pyplot as plt"
   ],
   "outputs": [],
   "execution_count": 3
  },
  {
   "cell_type": "code",
   "id": "47a63821",
   "metadata": {
    "ExecuteTime": {
     "end_time": "2024-12-05T06:06:58.371960Z",
     "start_time": "2024-12-05T06:06:58.364945Z"
    }
   },
   "source": [
    "import librosa\n",
    "import ipywidgets as widgets\n",
    "from IPython.display import display\n",
    "from IPython.display import Audio"
   ],
   "outputs": [],
   "execution_count": 30
  },
  {
   "cell_type": "code",
   "id": "38524e7e",
   "metadata": {
    "ExecuteTime": {
     "end_time": "2024-12-05T06:04:53.531369Z",
     "start_time": "2024-12-05T06:04:53.505960Z"
    }
   },
   "source": "import sounddevice as sd",
   "outputs": [],
   "execution_count": 5
  },
  {
   "metadata": {
    "ExecuteTime": {
     "end_time": "2024-12-05T06:04:53.538571Z",
     "start_time": "2024-12-05T06:04:53.532410Z"
    }
   },
   "cell_type": "code",
   "source": [
    "# # From the twelve-tone tuning system\n",
    "notes = [\n",
    "    ['C0', 16.35],\n",
    "    ['C#0/Db0', 17.32],\n",
    "    ['D0', 18.35],\n",
    "    ['D#0/Eb0', 19.45],\n",
    "    ['E0', 20.60],\n",
    "    ['F0', 21.83],\n",
    "    ['F#0/Gb0', 23.12],\n",
    "    ['G0', 24.50],\n",
    "    ['G#0/Ab0', 25.96],\n",
    "    ['A0', 27.50],\n",
    "    ['A#0/Bb0', 29.14],\n",
    "    ['B0', 30.87],\n",
    "    ['C1', 32.70],\n",
    "    ['C#1/Db1', 34.65],\n",
    "    ['D1', 36.71],\n",
    "    ['D#1/Eb1', 38.89],\n",
    "    ['E1', 41.20],\n",
    "    ['F1', 43.65],\n",
    "    ['F#1/Gb1', 46.25],\n",
    "    ['G1', 49.00],\n",
    "    ['G#1/Ab1', 51.91],\n",
    "    ['A1', 55.00],\n",
    "    ['A#1/Bb1', 58.27],\n",
    "    ['B1', 61.74],\n",
    "    ['C2', 65.41],\n",
    "    ['C#2/Db2', 69.30],\n",
    "    ['D2', 73.42],\n",
    "    ['D#2/Eb2', 77.78],\n",
    "    ['E2', 82.41],\n",
    "    ['F2', 87.31],\n",
    "    ['F#2/Gb2', 92.50],\n",
    "    ['G2', 98.00],\n",
    "    ['G#2/Ab2', 103.83],\n",
    "    ['A2', 110.00],\n",
    "    ['A#2/Bb2', 116.54],\n",
    "    ['B2', 123.47],\n",
    "    ['C3', 130.81],\n",
    "    ['C#3/Db3', 138.59],\n",
    "    ['D3', 146.83],\n",
    "    ['D#3/Eb3', 155.56],\n",
    "    ['E3', 164.81],\n",
    "    ['F3', 174.61],\n",
    "    ['F#3/Gb3', 185.00],\n",
    "    ['G3', 196.00],\n",
    "    ['G#3/Ab3', 207.65],\n",
    "    ['A3', 220.00],\n",
    "    ['A#3/Bb3', 233.08],\n",
    "    ['B3', 246.94],\n",
    "    ['C4', 261.63],\n",
    "    ['C#4/Db4', 277.18],\n",
    "    ['D4', 293.66],\n",
    "    ['D#4/Eb4', 311.13],\n",
    "    ['E4', 329.63],\n",
    "    ['F4', 349.23],\n",
    "    ['F#4/Gb4', 369.99],\n",
    "    ['G4', 392.00],\n",
    "    ['G#4/Ab4', 415.30],\n",
    "    ['A4', 440.00],\n",
    "    ['A#4/Bb4', 466.16],\n",
    "    ['B4', 493.88],\n",
    "    ['C5', 523.25],\n",
    "    ['C#5/Db5', 554.37],\n",
    "    ['D5', 587.33],\n",
    "    ['D#5/Eb5', 622.25],\n",
    "    ['E5', 659.25],\n",
    "    ['F5', 698.46],\n",
    "    ['F#5/Gb5', 739.99],\n",
    "    ['G5', 783.99],\n",
    "    ['G#5/Ab5', 830.61],\n",
    "    ['A5', 880.00],\n",
    "    ['A#5/Bb5', 932.33],\n",
    "    ['B5', 987.77],\n",
    "    ['C6', 1046.50],\n",
    "    ['C#6/Db6', 1108.73],\n",
    "    ['D6', 1174.66],\n",
    "    ['D#6/Eb6', 1244.51\t],\n",
    "    ['E6', 1318.51],\n",
    "    ['F6', 1396.91],\n",
    "    ['F#6/Gb6', 1479.98],\n",
    "    ['G6', 1567.98],\n",
    "    ['G#6/Ab6', 1661.22],\n",
    "    ['A6', 1760.00\t],\n",
    "    ['A#6/Bb6', 1864.66],\n",
    "    ['B6', 1975.53\t],\n",
    "    ['C7', 2093.00],\n",
    "    ['C#7/Db7', 2217.46],\n",
    "    ['D7', 2349.32],\n",
    "    ['D#7/Eb7', 2489.02],\n",
    "    ['E7', 2637.02],\n",
    "    ['F7', 2793.83],\n",
    "    ['F#7/Gb7 ', 2959.96],\n",
    "    ['G7', 3135.96],\n",
    "    ['G#7/Ab7', 3322.44],\n",
    "    ['A7', 3520.00],\n",
    "    ['A#7/Bb7', 3729.31],\n",
    "    ['B7', 3951.07],\n",
    "    ['C8', 4186.01],\n",
    "    ['C#8/Db8', 4434.92],\n",
    "    ['D8', 4698.63],\n",
    "    ['D#8/Eb8', 4978.03],\n",
    "    ['E8', 5274.04],\n",
    "    ['F8', 5587.65],\n",
    "    ['F#8/Gb8', 5919.91],\n",
    "    ['G8', 6271.93],\n",
    "    ['G#8/Ab8', 6644.88\t],\n",
    "    ['A8', 7040.00],\n",
    "    ['A#8/Bb8', 7458.62],\n",
    "    ['B8', 7902.13],\n",
    "]"
   ],
   "id": "f1c87b0de6939bf1",
   "outputs": [],
   "execution_count": 6
  },
  {
   "metadata": {
    "ExecuteTime": {
     "end_time": "2024-12-05T06:04:53.551090Z",
     "start_time": "2024-12-05T06:04:53.539589Z"
    }
   },
   "cell_type": "code",
   "source": [
    "note_dict_ranges = {}\n",
    "previous_tone_number = \"0\"\n",
    "previous_name        = None\n",
    "for name, freq in notes:\n",
    "    name = name.replace(\"#\", \"\").replace(\"b\", \"\").strip()\n",
    "    \n",
    "    current_tone_number = name[-1]\n",
    "    \n",
    "    # There are gaps when jumping to different numbers\n",
    "    if current_tone_number != previous_tone_number:\n",
    "        note_dict_ranges[previous_name].append(freq)\n",
    "        \n",
    "    note_letter_1 = name\n",
    "    note_letter_2 = None\n",
    "    \n",
    "    if \"/\" in name:\n",
    "        note_letter_1, note_letter_2 = name.split(\"/\")\n",
    "        #note_letter_1 = note_letter_1[0]\n",
    "        #note_letter_2 = note_letter_2[0]\n",
    "        \n",
    "        note_dict_ranges[note_letter_1].append(freq)\n",
    "        note_dict_ranges[note_letter_2] = [freq]\n",
    "        \n",
    "    else:\n",
    "        if note_letter_1 not in note_dict_ranges:\n",
    "            note_dict_ranges[note_letter_1] = [freq]\n",
    "        else:\n",
    "            note_dict_ranges[note_letter_1].append(freq)\n",
    "            \n",
    "    previous_tone_number = current_tone_number\n",
    "    previous_name        = name"
   ],
   "id": "f99a90421e4c3583",
   "outputs": [],
   "execution_count": 7
  },
  {
   "metadata": {
    "ExecuteTime": {
     "end_time": "2024-12-05T06:04:53.570460Z",
     "start_time": "2024-12-05T06:04:53.561417Z"
    }
   },
   "cell_type": "code",
   "source": [
    "#note_dict_rangesa\n",
    "ranges_for_search = [                                                    \n",
    "    {\n",
    "        \"start\" : freqs[0],                      \n",
    "        \"end\"   : freqs[-1],                           \n",
    "        \"value\" : note\n",
    "    }                        \n",
    "    for note, freqs in note_dict_ranges.items()\n",
    "]\n",
    "#ranges_for_search"
   ],
   "id": "eea10b0f1a3b169a",
   "outputs": [],
   "execution_count": 9
  },
  {
   "metadata": {
    "ExecuteTime": {
     "end_time": "2024-12-05T06:04:53.580325Z",
     "start_time": "2024-12-05T06:04:53.571522Z"
    }
   },
   "cell_type": "code",
   "source": [
    "def binary_search_ranges(ranges, values : list) -> list[tuple[str, float]]:\n",
    "    \"\"\"\n",
    "    Wrapper for binary search on a list of values in a list of ranges\n",
    "    \"\"\"\n",
    "    def binary_search(ranges : list, value : float) -> tuple[str, float]:\n",
    "        \"\"\"\n",
    "        Binary search for a value in a list of ranges\n",
    "        Thanks to https://stackoverflow.com/a/65518827 for the code\n",
    "        \n",
    "        Parameters\n",
    "        ----------\n",
    "        ranges : list\n",
    "            List of dictionaries containing the frequency ranges to search\n",
    "        value : float\n",
    "            Value to search for\n",
    "            \n",
    "        Returns\n",
    "        -------\n",
    "        str\n",
    "            Note corresponding to the value\n",
    "        float\n",
    "            Difference between the value and the start of the frequency range\n",
    "        \"\"\"\n",
    "    \n",
    "        if len(ranges) == 1:\n",
    "            if ranges[0][\"start\"] <= value <= ranges[0][\"end\"]:\n",
    "                pass\n",
    "            else:\n",
    "                print(f\"Value ({value:.2f}) not found in *any* range.\")\n",
    "                print(f\"Choosing note: {ranges[0]['value']}\")\n",
    "                \n",
    "            # Normalize the difference wrt the total length of the range\n",
    "            # Maximum value is 1 so if a value is at the beyond the range, \n",
    "            # in the case of gaps (per above) it will be set to 1\n",
    "            range_len = ranges[0][\"end\"] - ranges[0][\"start\"]\n",
    "            return (\n",
    "                ranges[0][\"value\"], \n",
    "                min(\n",
    "                        (value - ranges[0][\"start\"])/range_len, 1\n",
    "                )\n",
    "            )\n",
    "    \n",
    "        mid = len(ranges) // 2\n",
    "        if ranges[mid][\"end\"] < value:\n",
    "            return binary_search(ranges[mid:], value)\n",
    "        elif ranges[mid][\"start\"] > value:\n",
    "            return binary_search(ranges[:mid], value)\n",
    "        else:\n",
    "            # Normalize the difference wrt the total length of the range\n",
    "            range_len = ranges[mid][\"end\"] - ranges[mid][\"start\"]\n",
    "            return (\n",
    "                ranges[mid][\"value\"], \n",
    "                (value - ranges[mid][\"start\"])/range_len\n",
    "            )\n",
    "        \n",
    "    return [binary_search(ranges_for_search, value) for value in values]\n",
    "    #yield binary_search(ranges_for_search, value)"
   ],
   "id": "186736acbc646f71",
   "outputs": [],
   "execution_count": 10
  },
  {
   "cell_type": "code",
   "id": "e138d656",
   "metadata": {
    "ExecuteTime": {
     "end_time": "2024-12-05T06:29:17.816524Z",
     "start_time": "2024-12-05T06:29:17.813687Z"
    }
   },
   "source": [
    "g_prefix = \"galaxy\"\n",
    "g_number = 0\n",
    "\n",
    "cwd = Path.cwd()\n",
    "\n",
    "IN_DIR  = pj(cwd, \"music-in\")\n",
    "TMP_DIR = pj(cwd, \"music-tmp\")\n",
    "OUT_DIR = pj(cwd, \"music-out\")\n",
    "\n",
    "previous = False"
   ],
   "outputs": [],
   "execution_count": 67
  },
  {
   "metadata": {
    "ExecuteTime": {
     "end_time": "2024-12-05T06:29:18.145159Z",
     "start_time": "2024-12-05T06:29:18.142545Z"
    }
   },
   "cell_type": "code",
   "source": [
    "# Function to update the array image when slider value changes\n",
    "def update_image_array(change):\n",
    "    # Update the image data based on the slider value\n",
    "    new_image_data_array = image_data_array * change.new\n",
    "\n",
    "    # Update the array image with new data\n",
    "    image_array.set_data(new_image_data_array)\n",
    "\n",
    "    # Redraw the figure\n",
    "    fig.canvas.draw()"
   ],
   "id": "49e3dccb",
   "outputs": [],
   "execution_count": 69
  },
  {
   "metadata": {},
   "cell_type": "code",
   "outputs": [],
   "execution_count": null,
   "source": [
    "%matplotlib inline\n",
    "#%matplotlib notebook"
   ],
   "id": "c343548d23937dfb"
  },
  {
   "cell_type": "code",
   "id": "b04c942b",
   "metadata": {
    "ExecuteTime": {
     "end_time": "2024-12-05T06:29:26.962870Z",
     "start_time": "2024-12-05T06:29:19.534670Z"
    }
   },
   "source": [
    "if __name__ == \"__main__\":\n",
    "    plt.clf()\n",
    "    \n",
    "    gname = \"template\"\n",
    "    music_filename = \"brown_alma_mater.mp3\"\n",
    "    \n",
    "    height = 1000\n",
    "    width  = 1000\n",
    "    # square\n",
    "    model_dim    = 200\n",
    "    model_offset = model_dim//2\n",
    "\n",
    "    initial_seed_value = 42\n",
    "    \n",
    "    image_array = np.zeros((height, width))\n",
    "    \n",
    "    list_o_notes = []\n",
    "    volumes      = []\n",
    "    all_models   = []\n",
    "    \n",
    "    if not exists(pj(OUT_DIR, gname)):\n",
    "        pj(OUT_DIR, gname).mkdir()\n",
    "    \n",
    "    feedme_0          = pj(OUT_DIR, gname, f\"{gname}.in\")\n",
    "    input_filename_0  = pj(IN_DIR, f\"{gname}.fits\")\n",
    "    output_filename_0 = pj(OUT_DIR, gname, f\"{gname}.fits\")\n",
    "    \n",
    "    delay = 0.5\n",
    "    signal, sample_rate, time_array = load_audio(music_filename, delay = delay)\n",
    "    \n",
    "    # Every 2 seconds\n",
    "    time_step   = 2\n",
    "    t_step_size = time_step * sample_rate\n",
    "    t_initial   = int(delay * sample_rate) + t_step_size\n",
    "        \n",
    "    # Written as such to prepare for async processing\n",
    "    for t_step in range(t_initial, len(time_array), t_step_size):\n",
    "        \n",
    "        selected_peaks, volume = time_step_analysis(signal, sample_rate)\n",
    "        peak_notes = binary_search_ranges(ranges_for_search, selected_peaks)\n",
    "        if peak_notes is None:\n",
    "            continue\n",
    "        \n",
    "        list_o_notes.append(peak_notes)\n",
    "        volumes.append(volume)\n",
    "    \n",
    "    # Flatten the list of lists of notes for Counter\n",
    "    flattened_list_o_notes = [note[0] for sublist in list_o_notes for note in sublist]\n",
    "    \n",
    "    # Counter does not sort by frequency, so we need to sort it\n",
    "    sorted_counter = {\n",
    "        k : v for k, v in sorted(\n",
    "                Counter(flattened_list_o_notes).items(), key=lambda item: item[1], \n",
    "                reverse = True\n",
    "        )\n",
    "    }\n",
    "    \n",
    "    note_priority_map = {\n",
    "        note : priority_num \n",
    "        for priority_num, note in enumerate(\n",
    "                sorted_counter.keys()\n",
    "        )\n",
    "    }\n",
    "    \n",
    "    # Normalize volumes\n",
    "    volumes      = np.array(volumes)\n",
    "    max_volume   = np.max(volumes)\n",
    "    min_volume   = np.min(volumes)\n",
    "    \n",
    "    norm_volumes = (volumes - min_volume)/(max_volume - min_volume)\n",
    "    \n",
    "    seed_value = initial_seed_value\n",
    "    for i, (notes_chunk, norm_volume) in enumerate(zip(list_o_notes, norm_volumes)):\n",
    "        \n",
    "        # Leaving this as such can allow me to debug things later\n",
    "        # Based on their coordinates in the image\n",
    "        seed(seed_value)\n",
    "        x_pos = randint(model_offset, width  - model_offset)\n",
    "        y_pos = randint(model_offset, height - model_offset)\n",
    "        seed_value += 1\n",
    "        \n",
    "        output_filename = galfitting(\n",
    "                feedme_0, \n",
    "                input_filename_0, \n",
    "                output_filename_0, \n",
    "                gname,\n",
    "                x_pos, \n",
    "                y_pos, \n",
    "                model_offset,\n",
    "                note_priority_map,\n",
    "                notes_chunk, \n",
    "                norm_volume, \n",
    "                i\n",
    "        )\n",
    "        \n",
    "        image_array += process_galfit_output(\n",
    "                output_filename, \n",
    "                height, \n",
    "                width,\n",
    "                x_pos, \n",
    "                y_pos,\n",
    "                model_dim,\n",
    "                model_offset\n",
    "        )\n",
    "        \n",
    "        _ = generate_mosaic(image_array)\n",
    "        "
   ],
   "outputs": [
    {
     "name": "stdout",
     "output_type": "stream",
     "text": [
      "Value (688.00) not found in *any* range.\n",
      "Choosing note: E5\n",
      "Value (689.00) not found in *any* range.\n",
      "Choosing note: E5\n",
      "Value (695.95) not found in *any* range.\n",
      "Choosing note: E5\n",
      "Value (688.50) not found in *any* range.\n",
      "Choosing note: E5\n",
      "Value (688.00) not found in *any* range.\n",
      "Choosing note: E5\n",
      "Value (688.17) not found in *any* range.\n",
      "Choosing note: E5\n"
     ]
    },
    {
     "data": {
      "text/plain": [
       "<Figure size 640x480 with 0 Axes>"
      ]
     },
     "metadata": {},
     "output_type": "display_data"
    }
   ],
   "execution_count": 77
  }
 ],
 "metadata": {
  "kernelspec": {
   "display_name": "Python 3 (ipykernel)",
   "language": "python",
   "name": "python3"
  },
  "language_info": {
   "codemirror_mode": {
    "name": "ipython",
    "version": 3
   },
   "file_extension": ".py",
   "mimetype": "text/x-python",
   "name": "python",
   "nbconvert_exporter": "python",
   "pygments_lexer": "ipython3",
   "version": "3.9.13"
  }
 },
 "nbformat": 4,
 "nbformat_minor": 5
}
